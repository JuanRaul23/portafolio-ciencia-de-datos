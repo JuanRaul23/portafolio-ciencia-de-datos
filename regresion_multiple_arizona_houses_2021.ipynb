{
  "nbformat": 4,
  "nbformat_minor": 0,
  "metadata": {
    "colab": {
      "provenance": [],
      "mount_file_id": "1lt3XsRm3DLaJbXzOR3zxIhdQyoganBDO",
      "authorship_tag": "ABX9TyPD5R2strio8JHaNFamMBMl",
      "include_colab_link": true
    },
    "kernelspec": {
      "name": "python3",
      "display_name": "Python 3"
    },
    "language_info": {
      "name": "python"
    }
  },
  "cells": [
    {
      "cell_type": "markdown",
      "metadata": {
        "id": "view-in-github",
        "colab_type": "text"
      },
      "source": [
        "<a href=\"https://colab.research.google.com/github/JuanRaul23/portafolio-ciencia-de-datos/blob/master/regresion_multiple_arizona_houses_2021.ipynb\" target=\"_parent\"><img src=\"https://colab.research.google.com/assets/colab-badge.svg\" alt=\"Open In Colab\"/></a>"
      ]
    },
    {
      "cell_type": "markdown",
      "source": [
        "# Fuente de datos: **[Arizona Houses 2021](https://www.kaggle.com/datasets/antoniong203/arizona-houses-2021)**, Kaggle\n",
        "\n",
        "El conjunto de datos contiene casas de Arizona que se han listado anteriormente y algunas de sus características e información."
      ],
      "metadata": {
        "id": "78lRofpKuuok"
      }
    },
    {
      "cell_type": "markdown",
      "source": [
        "## Importando datos"
      ],
      "metadata": {
        "id": "chwilPETu3Q9"
      }
    },
    {
      "cell_type": "code",
      "execution_count": 2,
      "metadata": {
        "colab": {
          "base_uri": "https://localhost:8080/",
          "height": 206
        },
        "id": "DExDdjreul41",
        "outputId": "39006a5c-0bb4-4d54-a4c8-df3aa7bf8dff"
      },
      "outputs": [
        {
          "output_type": "execute_result",
          "data": {
            "text/plain": [
              "    Price                     address      Local_area zipcode  beds  baths  \\\n",
              "0  229900      11444 N 28th Dr APT 14         Phoenix   85029   2.0    3.0   \n",
              "1  294900  107 W Camino Rancho Lucido       Sahuarita   85629   4.0    3.0   \n",
              "2  683100        3320 E Briarwood Ter         Phoenix   85048   4.0    4.0   \n",
              "3  260000        2401 N 70th St APT H      Scottsdale   85257   2.0    1.0   \n",
              "4  290900          3781 E Sierrita Rd  San Tan Valley   85143   2.0    2.0   \n",
              "\n",
              "     sqft                                                url  \n",
              "0  1498.0  https://www.zillow.com/homedetails/11444-N-28t...  \n",
              "1  1951.0  https://www.zillow.com/homedetails/107-W-Camin...  \n",
              "2  3110.0  https://www.zillow.com/homedetails/3320-E-Bria...  \n",
              "3   759.0  https://www.zillow.com/homedetails/2401-N-70th...  \n",
              "4  1052.0  https://www.zillow.com/homedetails/3781-E-Sier...  "
            ],
            "text/html": [
              "\n",
              "  <div id=\"df-330555be-df11-49fa-b316-ed57e6ff2c5d\" class=\"colab-df-container\">\n",
              "    <div>\n",
              "<style scoped>\n",
              "    .dataframe tbody tr th:only-of-type {\n",
              "        vertical-align: middle;\n",
              "    }\n",
              "\n",
              "    .dataframe tbody tr th {\n",
              "        vertical-align: top;\n",
              "    }\n",
              "\n",
              "    .dataframe thead th {\n",
              "        text-align: right;\n",
              "    }\n",
              "</style>\n",
              "<table border=\"1\" class=\"dataframe\">\n",
              "  <thead>\n",
              "    <tr style=\"text-align: right;\">\n",
              "      <th></th>\n",
              "      <th>Price</th>\n",
              "      <th>address</th>\n",
              "      <th>Local_area</th>\n",
              "      <th>zipcode</th>\n",
              "      <th>beds</th>\n",
              "      <th>baths</th>\n",
              "      <th>sqft</th>\n",
              "      <th>url</th>\n",
              "    </tr>\n",
              "  </thead>\n",
              "  <tbody>\n",
              "    <tr>\n",
              "      <th>0</th>\n",
              "      <td>229900</td>\n",
              "      <td>11444 N 28th Dr APT 14</td>\n",
              "      <td>Phoenix</td>\n",
              "      <td>85029</td>\n",
              "      <td>2.0</td>\n",
              "      <td>3.0</td>\n",
              "      <td>1498.0</td>\n",
              "      <td>https://www.zillow.com/homedetails/11444-N-28t...</td>\n",
              "    </tr>\n",
              "    <tr>\n",
              "      <th>1</th>\n",
              "      <td>294900</td>\n",
              "      <td>107 W Camino Rancho Lucido</td>\n",
              "      <td>Sahuarita</td>\n",
              "      <td>85629</td>\n",
              "      <td>4.0</td>\n",
              "      <td>3.0</td>\n",
              "      <td>1951.0</td>\n",
              "      <td>https://www.zillow.com/homedetails/107-W-Camin...</td>\n",
              "    </tr>\n",
              "    <tr>\n",
              "      <th>2</th>\n",
              "      <td>683100</td>\n",
              "      <td>3320 E Briarwood Ter</td>\n",
              "      <td>Phoenix</td>\n",
              "      <td>85048</td>\n",
              "      <td>4.0</td>\n",
              "      <td>4.0</td>\n",
              "      <td>3110.0</td>\n",
              "      <td>https://www.zillow.com/homedetails/3320-E-Bria...</td>\n",
              "    </tr>\n",
              "    <tr>\n",
              "      <th>3</th>\n",
              "      <td>260000</td>\n",
              "      <td>2401 N 70th St APT H</td>\n",
              "      <td>Scottsdale</td>\n",
              "      <td>85257</td>\n",
              "      <td>2.0</td>\n",
              "      <td>1.0</td>\n",
              "      <td>759.0</td>\n",
              "      <td>https://www.zillow.com/homedetails/2401-N-70th...</td>\n",
              "    </tr>\n",
              "    <tr>\n",
              "      <th>4</th>\n",
              "      <td>290900</td>\n",
              "      <td>3781 E Sierrita Rd</td>\n",
              "      <td>San Tan Valley</td>\n",
              "      <td>85143</td>\n",
              "      <td>2.0</td>\n",
              "      <td>2.0</td>\n",
              "      <td>1052.0</td>\n",
              "      <td>https://www.zillow.com/homedetails/3781-E-Sier...</td>\n",
              "    </tr>\n",
              "  </tbody>\n",
              "</table>\n",
              "</div>\n",
              "    <div class=\"colab-df-buttons\">\n",
              "\n",
              "  <div class=\"colab-df-container\">\n",
              "    <button class=\"colab-df-convert\" onclick=\"convertToInteractive('df-330555be-df11-49fa-b316-ed57e6ff2c5d')\"\n",
              "            title=\"Convert this dataframe to an interactive table.\"\n",
              "            style=\"display:none;\">\n",
              "\n",
              "  <svg xmlns=\"http://www.w3.org/2000/svg\" height=\"24px\" viewBox=\"0 -960 960 960\">\n",
              "    <path d=\"M120-120v-720h720v720H120Zm60-500h600v-160H180v160Zm220 220h160v-160H400v160Zm0 220h160v-160H400v160ZM180-400h160v-160H180v160Zm440 0h160v-160H620v160ZM180-180h160v-160H180v160Zm440 0h160v-160H620v160Z\"/>\n",
              "  </svg>\n",
              "    </button>\n",
              "\n",
              "  <style>\n",
              "    .colab-df-container {\n",
              "      display:flex;\n",
              "      gap: 12px;\n",
              "    }\n",
              "\n",
              "    .colab-df-convert {\n",
              "      background-color: #E8F0FE;\n",
              "      border: none;\n",
              "      border-radius: 50%;\n",
              "      cursor: pointer;\n",
              "      display: none;\n",
              "      fill: #1967D2;\n",
              "      height: 32px;\n",
              "      padding: 0 0 0 0;\n",
              "      width: 32px;\n",
              "    }\n",
              "\n",
              "    .colab-df-convert:hover {\n",
              "      background-color: #E2EBFA;\n",
              "      box-shadow: 0px 1px 2px rgba(60, 64, 67, 0.3), 0px 1px 3px 1px rgba(60, 64, 67, 0.15);\n",
              "      fill: #174EA6;\n",
              "    }\n",
              "\n",
              "    .colab-df-buttons div {\n",
              "      margin-bottom: 4px;\n",
              "    }\n",
              "\n",
              "    [theme=dark] .colab-df-convert {\n",
              "      background-color: #3B4455;\n",
              "      fill: #D2E3FC;\n",
              "    }\n",
              "\n",
              "    [theme=dark] .colab-df-convert:hover {\n",
              "      background-color: #434B5C;\n",
              "      box-shadow: 0px 1px 3px 1px rgba(0, 0, 0, 0.15);\n",
              "      filter: drop-shadow(0px 1px 2px rgba(0, 0, 0, 0.3));\n",
              "      fill: #FFFFFF;\n",
              "    }\n",
              "  </style>\n",
              "\n",
              "    <script>\n",
              "      const buttonEl =\n",
              "        document.querySelector('#df-330555be-df11-49fa-b316-ed57e6ff2c5d button.colab-df-convert');\n",
              "      buttonEl.style.display =\n",
              "        google.colab.kernel.accessAllowed ? 'block' : 'none';\n",
              "\n",
              "      async function convertToInteractive(key) {\n",
              "        const element = document.querySelector('#df-330555be-df11-49fa-b316-ed57e6ff2c5d');\n",
              "        const dataTable =\n",
              "          await google.colab.kernel.invokeFunction('convertToInteractive',\n",
              "                                                    [key], {});\n",
              "        if (!dataTable) return;\n",
              "\n",
              "        const docLinkHtml = 'Like what you see? Visit the ' +\n",
              "          '<a target=\"_blank\" href=https://colab.research.google.com/notebooks/data_table.ipynb>data table notebook</a>'\n",
              "          + ' to learn more about interactive tables.';\n",
              "        element.innerHTML = '';\n",
              "        dataTable['output_type'] = 'display_data';\n",
              "        await google.colab.output.renderOutput(dataTable, element);\n",
              "        const docLink = document.createElement('div');\n",
              "        docLink.innerHTML = docLinkHtml;\n",
              "        element.appendChild(docLink);\n",
              "      }\n",
              "    </script>\n",
              "  </div>\n",
              "\n",
              "\n",
              "<div id=\"df-2d2240d4-e053-4555-afaa-f2fbb635a5fb\">\n",
              "  <button class=\"colab-df-quickchart\" onclick=\"quickchart('df-2d2240d4-e053-4555-afaa-f2fbb635a5fb')\"\n",
              "            title=\"Suggest charts.\"\n",
              "            style=\"display:none;\">\n",
              "\n",
              "<svg xmlns=\"http://www.w3.org/2000/svg\" height=\"24px\"viewBox=\"0 0 24 24\"\n",
              "     width=\"24px\">\n",
              "    <g>\n",
              "        <path d=\"M19 3H5c-1.1 0-2 .9-2 2v14c0 1.1.9 2 2 2h14c1.1 0 2-.9 2-2V5c0-1.1-.9-2-2-2zM9 17H7v-7h2v7zm4 0h-2V7h2v10zm4 0h-2v-4h2v4z\"/>\n",
              "    </g>\n",
              "</svg>\n",
              "  </button>\n",
              "\n",
              "<style>\n",
              "  .colab-df-quickchart {\n",
              "      --bg-color: #E8F0FE;\n",
              "      --fill-color: #1967D2;\n",
              "      --hover-bg-color: #E2EBFA;\n",
              "      --hover-fill-color: #174EA6;\n",
              "      --disabled-fill-color: #AAA;\n",
              "      --disabled-bg-color: #DDD;\n",
              "  }\n",
              "\n",
              "  [theme=dark] .colab-df-quickchart {\n",
              "      --bg-color: #3B4455;\n",
              "      --fill-color: #D2E3FC;\n",
              "      --hover-bg-color: #434B5C;\n",
              "      --hover-fill-color: #FFFFFF;\n",
              "      --disabled-bg-color: #3B4455;\n",
              "      --disabled-fill-color: #666;\n",
              "  }\n",
              "\n",
              "  .colab-df-quickchart {\n",
              "    background-color: var(--bg-color);\n",
              "    border: none;\n",
              "    border-radius: 50%;\n",
              "    cursor: pointer;\n",
              "    display: none;\n",
              "    fill: var(--fill-color);\n",
              "    height: 32px;\n",
              "    padding: 0;\n",
              "    width: 32px;\n",
              "  }\n",
              "\n",
              "  .colab-df-quickchart:hover {\n",
              "    background-color: var(--hover-bg-color);\n",
              "    box-shadow: 0 1px 2px rgba(60, 64, 67, 0.3), 0 1px 3px 1px rgba(60, 64, 67, 0.15);\n",
              "    fill: var(--button-hover-fill-color);\n",
              "  }\n",
              "\n",
              "  .colab-df-quickchart-complete:disabled,\n",
              "  .colab-df-quickchart-complete:disabled:hover {\n",
              "    background-color: var(--disabled-bg-color);\n",
              "    fill: var(--disabled-fill-color);\n",
              "    box-shadow: none;\n",
              "  }\n",
              "\n",
              "  .colab-df-spinner {\n",
              "    border: 2px solid var(--fill-color);\n",
              "    border-color: transparent;\n",
              "    border-bottom-color: var(--fill-color);\n",
              "    animation:\n",
              "      spin 1s steps(1) infinite;\n",
              "  }\n",
              "\n",
              "  @keyframes spin {\n",
              "    0% {\n",
              "      border-color: transparent;\n",
              "      border-bottom-color: var(--fill-color);\n",
              "      border-left-color: var(--fill-color);\n",
              "    }\n",
              "    20% {\n",
              "      border-color: transparent;\n",
              "      border-left-color: var(--fill-color);\n",
              "      border-top-color: var(--fill-color);\n",
              "    }\n",
              "    30% {\n",
              "      border-color: transparent;\n",
              "      border-left-color: var(--fill-color);\n",
              "      border-top-color: var(--fill-color);\n",
              "      border-right-color: var(--fill-color);\n",
              "    }\n",
              "    40% {\n",
              "      border-color: transparent;\n",
              "      border-right-color: var(--fill-color);\n",
              "      border-top-color: var(--fill-color);\n",
              "    }\n",
              "    60% {\n",
              "      border-color: transparent;\n",
              "      border-right-color: var(--fill-color);\n",
              "    }\n",
              "    80% {\n",
              "      border-color: transparent;\n",
              "      border-right-color: var(--fill-color);\n",
              "      border-bottom-color: var(--fill-color);\n",
              "    }\n",
              "    90% {\n",
              "      border-color: transparent;\n",
              "      border-bottom-color: var(--fill-color);\n",
              "    }\n",
              "  }\n",
              "</style>\n",
              "\n",
              "  <script>\n",
              "    async function quickchart(key) {\n",
              "      const quickchartButtonEl =\n",
              "        document.querySelector('#' + key + ' button');\n",
              "      quickchartButtonEl.disabled = true;  // To prevent multiple clicks.\n",
              "      quickchartButtonEl.classList.add('colab-df-spinner');\n",
              "      try {\n",
              "        const charts = await google.colab.kernel.invokeFunction(\n",
              "            'suggestCharts', [key], {});\n",
              "      } catch (error) {\n",
              "        console.error('Error during call to suggestCharts:', error);\n",
              "      }\n",
              "      quickchartButtonEl.classList.remove('colab-df-spinner');\n",
              "      quickchartButtonEl.classList.add('colab-df-quickchart-complete');\n",
              "    }\n",
              "    (() => {\n",
              "      let quickchartButtonEl =\n",
              "        document.querySelector('#df-2d2240d4-e053-4555-afaa-f2fbb635a5fb button');\n",
              "      quickchartButtonEl.style.display =\n",
              "        google.colab.kernel.accessAllowed ? 'block' : 'none';\n",
              "    })();\n",
              "  </script>\n",
              "</div>\n",
              "    </div>\n",
              "  </div>\n"
            ]
          },
          "metadata": {},
          "execution_count": 2
        }
      ],
      "source": [
        "# Importar pandas\n",
        "import pandas as pd\n",
        "\n",
        "# Cargar el conjunto de datos\n",
        "df = pd.read_csv('/content/drive/MyDrive/AZhousingData.csv')\n",
        "\n",
        "# Mostrar las primeras filas del conjunto de datos\n",
        "df.head()"
      ]
    },
    {
      "cell_type": "markdown",
      "source": [
        "Comencemos por leer y explorar el set de datos. El conjunto de datos contiene la siguiente información:\n",
        "\n",
        "- **Price**: Precio de la vivienda.\n",
        "- **address**: Dirección.\n",
        "- **Local_area**: Área local o ciudad.\n",
        "- **zipcode**: Código postal.\n",
        "- **beds**: Número de dormitorios.\n",
        "- **baths**: Número de baños.\n",
        "- **sqft**: Superficie en pies cuadrados.\n",
        "- **url**: URL del anuncio en Zillow."
      ],
      "metadata": {
        "id": "IWkeaPerwB0E"
      }
    },
    {
      "cell_type": "markdown",
      "source": [
        "## Análisis de correlación usando mapa de calor"
      ],
      "metadata": {
        "id": "yx-lqt2AGiIg"
      }
    },
    {
      "cell_type": "code",
      "source": [
        "import seaborn as sns\n",
        "import matplotlib.pyplot as plt\n",
        "\n",
        "# Calcular la matriz de correlación\n",
        "corr = df.corr()\n",
        "\n",
        "# Graficar el mapa de calor\n",
        "plt.figure(figsize=(10, 6))\n",
        "sns.heatmap(corr, annot=True, cmap='coolwarm', vmin=-1, vmax=1)\n",
        "plt.title('Correlation Heatmap')\n",
        "plt.show()"
      ],
      "metadata": {
        "colab": {
          "base_uri": "https://localhost:8080/",
          "height": 600
        },
        "id": "gN_8kQXCH_kI",
        "outputId": "780780de-9399-4ac1-841d-730d3dd9a952"
      },
      "execution_count": 4,
      "outputs": [
        {
          "output_type": "stream",
          "name": "stderr",
          "text": [
            "<ipython-input-4-4728f7b1cfd3>:5: FutureWarning: The default value of numeric_only in DataFrame.corr is deprecated. In a future version, it will default to False. Select only valid columns or specify the value of numeric_only to silence this warning.\n",
            "  corr = df.corr()\n"
          ]
        },
        {
          "output_type": "display_data",
          "data": {
            "text/plain": [
              "<Figure size 1000x600 with 2 Axes>"
            ],
            "image/png": "[encoded data removed]"
          },
          "metadata": {}
        }
      ]
    },
    {
      "cell_type": "markdown",
      "source": [
        "Aquí está el mapa de calor de las correlaciones:\n",
        "\n",
        "- La variable objetivo, **Price**, muestra una correlación positiva con las variables **beds**, **baths**, y **sqft**.\n",
        "- Las correlaciones más fuertes de **Price** son con **sqft** (0.71) y **baths** (0.65). **beds** también tiene una correlación decente (0.54) con **Price**."
      ],
      "metadata": {
        "id": "5BGB2Rn0IoOT"
      }
    },
    {
      "cell_type": "markdown",
      "source": [
        "## Escoger las variables independientes para la regresión lineal\n",
        "Dado que **sqft** y **baths** son las que tienen correlaciones más fuertes, las consideraremos como las principales variables independientes para la regresión lineal múltiple. También podemos considerar **beds** si deseamos tener tres variables."
      ],
      "metadata": {
        "id": "lxEgvC98GwiR"
      }
    },
    {
      "cell_type": "markdown",
      "source": [
        "## Dividir los datos en entrenamiento y prueba"
      ],
      "metadata": {
        "id": "GtpK4iRdGt-J"
      }
    },
    {
      "cell_type": "code",
      "source": [
        "from sklearn.model_selection import train_test_split\n",
        "from sklearn.linear_model import LinearRegression\n",
        "from sklearn.metrics import mean_squared_error, r2_score\n",
        "\n",
        "# Define las características y la variable objetivo\n",
        "X = df[['sqft', 'baths', 'beds']]\n",
        "y = df['Price']\n",
        "\n",
        "# Divide los datos en conjuntos de entrenamiento y prueba (80% de entrenamiento, 20% de prueba)\n",
        "X_train, X_test, y_train, y_test = train_test_split(X, y, test_size=0.2, random_state=42)"
      ],
      "metadata": {
        "id": "o06_WeOwJBfS"
      },
      "execution_count": 5,
      "outputs": []
    },
    {
      "cell_type": "markdown",
      "source": [
        "## Construcción y evaluación del modelo de Regresión Lineal Múltiple"
      ],
      "metadata": {
        "id": "JYQ627wHGum_"
      }
    },
    {
      "cell_type": "code",
      "source": [
        "# Inicializa el modelo de regresión lineal\n",
        "model = LinearRegression()\n",
        "\n",
        "# Ajusta el modelo a los datos de entrenamiento\n",
        "model.fit(X_train, y_train)\n",
        "\n",
        "# Predice en los datos de prueba\n",
        "y_pred = model.predict(X_test)\n",
        "\n",
        "# Calcula el R^2 y el error cuadrático medio\n",
        "r2 = r2_score(y_test, y_pred)\n",
        "mse = mean_squared_error(y_test, y_pred)\n",
        "\n",
        "r2, mse"
      ],
      "metadata": {
        "colab": {
          "base_uri": "https://localhost:8080/"
        },
        "id": "k_pW9BkZJLx-",
        "outputId": "760e76d0-719f-437a-85e0-38f7f7f394d0"
      },
      "execution_count": 6,
      "outputs": [
        {
          "output_type": "execute_result",
          "data": {
            "text/plain": [
              "(0.2278291523505135, 1534479293620.2666)"
            ]
          },
          "metadata": {},
          "execution_count": 6
        }
      ]
    },
    {
      "cell_type": "markdown",
      "source": [
        "Los resultados del modelo de regresión lineal múltiple son:\n",
        "\n",
        "- $R^2$: 0.228\n",
        "- Error cuadrático medio (MSE): 1,534,479,293,620.27\n",
        "\n",
        "### Conclusiones:\n",
        "\n",
        "1. El valor ($R^2$) de 0.228 indica que aproximadamente el 22.8% de la variabilidad en el precio de las viviendas puede ser explicado por las variables independientes seleccionadas (sqft, baths y beds).\n",
        "2. Aunque algunas de estas variables mostraron correlaciones significativas con el precio en el mapa de calor, el modelo en su conjunto no proporciona un ajuste muy fuerte a los datos.\n",
        "3. El MSE es un valor grande, lo que indica que el modelo tiene un error significativo en términos absolutos. Esta cifra podría ser más interpretable si se toma la raíz cuadrada del MSE (RMSE), lo que nos daría el error promedio en términos del precio de las viviendas.\n",
        "4. Podría ser beneficioso considerar más características, interacciones entre características o técnicas de modelado más avanzadas para mejorar el rendimiento del modelo."
      ],
      "metadata": {
        "id": "bjtDwAYYKRxy"
      }
    },
    {
      "cell_type": "markdown",
      "source": [
        "## Regularización con la Regresión Lasso\n",
        "\n",
        "Vamos a realizar los siguientes pasos:\n",
        "\n",
        "1. Utilizar la técnica de regularización Lasso.\n",
        "2. Usar GridSearchCV para encontrar el mejor valor de alpha para Lasso.\n",
        "3. Calcular el MSE en validación cruzada.\n",
        "4. Calcular el MSE en el conjunto de prueba.\n",
        "5. Determinar el Coeficiente de Determinación $R^2$\n",
        "\n",
        "Empecemos con la regularización Lasso y la búsqueda del mejor valor de alpha usando GridSearchCV."
      ],
      "metadata": {
        "id": "WS_innvdGwTz"
      }
    },
    {
      "cell_type": "code",
      "source": [
        "from sklearn.linear_model import Lasso\n",
        "from sklearn.model_selection import GridSearchCV\n",
        "\n",
        "# Define the parameters for GridSearch\n",
        "params = {'alpha': [1e-4, 1e-3, 1e-2, 1e-1, 1, 10, 100, 1000, 10000]}\n",
        "\n",
        "# Initialize Lasso and GridSearchCV\n",
        "lasso = Lasso()\n",
        "grid_search = GridSearchCV(lasso, params, scoring='neg_mean_squared_error', cv=5)\n",
        "\n",
        "# Fit GridSearchCV\n",
        "grid_search.fit(X_train, y_train)\n",
        "\n",
        "# Extract the best alpha and corresponding MSE in cross validation\n",
        "best_alpha = grid_search.best_params_['alpha']\n",
        "best_mse_cv = -grid_search.best_score_\n",
        "\n",
        "best_alpha, best_mse_cv"
      ],
      "metadata": {
        "colab": {
          "base_uri": "https://localhost:8080/"
        },
        "id": "qgUW2iv2QdtQ",
        "outputId": "95720e87-73e5-4f29-809f-90a876011750"
      },
      "execution_count": 7,
      "outputs": [
        {
          "output_type": "execute_result",
          "data": {
            "text/plain": [
              "(10000, 71746162397.97421)"
            ]
          },
          "metadata": {},
          "execution_count": 7
        }
      ]
    },
    {
      "cell_type": "markdown",
      "source": [
        "El mejor valor de α para la regularización Lasso, según la búsqueda con GridSearchCV, es \\(10,000\\). El error cuadrático medio (MSE) en la validación cruzada para este α es aproximadamente \\(71,746,162,397.97\\).\n",
        "\n",
        "Ahora, vamos a utilizar este valor de α para entrenar un modelo Lasso en el conjunto de entrenamiento completo y calcular el MSE en el conjunto de prueba, así como el Coeficiente de Determinación $R^2$.\n",
        "\n",
        "Después de usar el valor óptimo de α para la regularización Lasso, obtenemos los siguientes resultados:\n",
        "\n",
        "- Error cuadrático medio (MSE) en el conjunto de prueba: \\( 1,542,775,955,406.57 \\)\n",
        "- Coeficiente de Determinación $R^2$: 0.224\n",
        "\n",
        "### Conclusiones:\n",
        "\n",
        "1. El MSE en el conjunto de prueba es similar al obtenido con la regresión lineal múltiple sin regularización. Esto indica que la regularización Lasso no mejoró significativamente el rendimiento en el conjunto de prueba en este caso particular.\n",
        "2. El valor de $R^2$ también es similar al obtenido anteriormente, lo que sugiere que la proporción de variabilidad explicada por el modelo no ha cambiado mucho con la regularización.\n",
        "3. Es posible que la regularización Lasso no sea la técnica óptima para este conjunto de datos en particular, o que se requieran pasos adicionales de preprocesamiento y selección de características."
      ],
      "metadata": {
        "id": "4G2Q3D2HQmkQ"
      }
    },
    {
      "cell_type": "markdown",
      "source": [
        "## Regularización con la Regresión Ridge\n",
        "\n",
        "Vamos a realizar una regularización con la regresión Ridge y seguir los mismos pasos:\n",
        "\n",
        "1. Utilizar la técnica de regularización Ridge.\n",
        "2. Usar GridSearchCV para encontrar el mejor valor de alpha para Ridge.\n",
        "3. Calcular el MSE en validación cruzada.\n",
        "4. Calcular el MSE en el conjunto de prueba.\n",
        "5. Determinar el Coeficiente de Determinación $R^2$.\n",
        "\n",
        "Comenzamos con la regularización Ridge y la búsqueda del mejor valor de alpha usando GridSearchCV."
      ],
      "metadata": {
        "id": "UmcUho2fGv7I"
      }
    },
    {
      "cell_type": "code",
      "source": [
        "from sklearn.linear_model import Ridge\n",
        "\n",
        "# Initialize Ridge and GridSearchCV\n",
        "ridge = Ridge()\n",
        "grid_search_ridge = GridSearchCV(ridge, params, scoring='neg_mean_squared_error', cv=5)\n",
        "\n",
        "# Fit GridSearchCV\n",
        "grid_search_ridge.fit(X_train, y_train)\n",
        "\n",
        "# Extract the best alpha and corresponding MSE in cross validation\n",
        "best_alpha_ridge = grid_search_ridge.best_params_['alpha']\n",
        "best_mse_cv_ridge = -grid_search_ridge.best_score_\n",
        "\n",
        "best_alpha_ridge, best_mse_cv_ridge"
      ],
      "metadata": {
        "colab": {
          "base_uri": "https://localhost:8080/"
        },
        "id": "Q2ekv9GYTmlL",
        "outputId": "b7477634-fb12-4a21-953c-c31510ad11b1"
      },
      "execution_count": 8,
      "outputs": [
        {
          "output_type": "execute_result",
          "data": {
            "text/plain": [
              "(100, 71638392635.3552)"
            ]
          },
          "metadata": {},
          "execution_count": 8
        }
      ]
    },
    {
      "cell_type": "markdown",
      "source": [
        "El mejor valor de α para la regularización Ridge, según la búsqueda con GridSearchCV, es \\( 100 \\). El error cuadrático medio (MSE) en la validación cruzada para este α es aproximadamente \\( 71,638,392,635.36 \\).\n",
        "\n",
        "Ahora, vamos a utilizar este valor de α para entrenar un modelo Ridge en el conjunto de entrenamiento completo y calcular el MSE en el conjunto de prueba, así como el Coeficiente de Determinación $R^2$.\n",
        "\n",
        "Después de usar el valor óptimo de α para la regularización Ridge, obtenemos los siguientes resultados:\n",
        "\n",
        "- Error cuadrático medio (MSE) en el conjunto de prueba: \\( 1,545,244,326,512.27 \\)\n",
        "- Coeficiente de Determinación $R^2$: 0.222\n",
        "\n",
        "### Conclusiones:\n",
        "\n",
        "1. Al igual que con la regularización Lasso, el MSE en el conjunto de prueba para la regularización Ridge es similar al obtenido con la regresión lineal múltiple sin regularización.\n",
        "2. El valor de $R^2$ también es parecido al obtenido anteriormente, lo que sugiere que la proporción de variabilidad explicada por el modelo no ha cambiado mucho con la regularización Ridge.\n",
        "3. A pesar de intentar diferentes técnicas de regularización, parece que el modelo inicial ya estaba bastante bien ajustado a los datos, o que hay otros factores en el conjunto de datos que no hemos considerado y que podrían mejorar el rendimiento del modelo."
      ],
      "metadata": {
        "id": "NlR8m6GrTuNW"
      }
    },
    {
      "cell_type": "markdown",
      "source": [
        "## Regularización con la Regresión Elastic Search\n",
        "\n",
        "La regresión Elastic Net combina las penalizaciones de Lasso y Ridge. Además del parámetro α (que regula la fuerza de la regularización), Elastic Net tiene un parámetro adicional \\( l1\\_ratio \\) que determina el equilibrio entre la penalización L1 (Lasso) y L2 (Ridge).\n",
        "\n",
        "Vamos a seguir estos pasos:\n",
        "\n",
        "1. Utilizar la técnica de regularización Elastic Net.\n",
        "2. Usar GridSearchCV para encontrar los mejores valores de α y \\( l1\\_ratio \\) para Elastic Net.\n",
        "3. Calcular el MSE en validación cruzada.\n",
        "4. Calcular el MSE en el conjunto de prueba.\n",
        "5. Determinar el Coeficiente de Determinación $R^2$.\n",
        "\n",
        "Comenzamos con la regularización Elastic Net y la búsqueda de los mejores valores de α y \\( l1\\_ratio \\) usando GridSearchCV."
      ],
      "metadata": {
        "id": "Q4bUW-QRGvIm"
      }
    },
    {
      "cell_type": "code",
      "source": [
        "from sklearn.linear_model import ElasticNet\n",
        "\n",
        "# Define the parameters for GridSearch\n",
        "params_elastic = {\n",
        "    'alpha': [1e-4, 1e-3, 1e-2, 1e-1, 1, 10, 100, 1000, 10000],\n",
        "    'l1_ratio': [0.1, 0.3, 0.5, 0.7, 0.9]\n",
        "}\n",
        "\n",
        "# Initialize ElasticNet and GridSearchCV\n",
        "elastic_net = ElasticNet()\n",
        "grid_search_en = GridSearchCV(elastic_net, params_elastic, scoring='neg_mean_squared_error', cv=5)\n",
        "\n",
        "# Fit GridSearchCV\n",
        "grid_search_en.fit(X_train, y_train)\n",
        "\n",
        "# Extract the best alpha, l1_ratio and corresponding MSE in cross validation\n",
        "best_alpha_en = grid_search_en.best_params_['alpha']\n",
        "best_l1_ratio = grid_search_en.best_params_['l1_ratio']\n",
        "best_mse_cv_en = -grid_search_en.best_score_\n",
        "\n",
        "best_alpha_en, best_l1_ratio, best_mse_cv_en"
      ],
      "metadata": {
        "colab": {
          "base_uri": "https://localhost:8080/"
        },
        "id": "k2_1ESQiUb1j",
        "outputId": "3be767fb-aeb3-42e9-9e9b-3770327239a1"
      },
      "execution_count": 9,
      "outputs": [
        {
          "output_type": "execute_result",
          "data": {
            "text/plain": [
              "(1, 0.7, 71651161958.10316)"
            ]
          },
          "metadata": {},
          "execution_count": 9
        }
      ]
    },
    {
      "cell_type": "markdown",
      "source": [
        "El mejor valor de α para la regularización Elastic Net, según la búsqueda con GridSearchCV, es \\( 1 \\). El mejor valor de \\( l1\\_ratio \\) es \\( 0.7 \\). El error cuadrático medio (MSE) en la validación cruzada para estos parámetros es aproximadamente \\( 71,651,161,958.10 \\).\n",
        "\n",
        "Ahora, vamos a utilizar estos valores óptimos de α y \\( l1\\_ratio \\) para entrenar un modelo Elastic Net en el conjunto de entrenamiento completo y calcular el MSE en el conjunto de prueba, así como el Coeficiente de Determinación $R^2$.\n",
        "\n",
        "Después de usar los valores óptimos de α y \\( l1\\_ratio \\) para la regularización Elastic Net, obtenemos los siguientes resultados:\n",
        "\n",
        "- Error cuadrático medio (MSE) en el conjunto de prueba: \\( 1,547,808,857,932.33 \\)\n",
        "- Coeficiente de Determinación $R^2$: 0.221\n",
        "\n",
        "### Conclusiones:\n",
        "\n",
        "1. El MSE en el conjunto de prueba para la regularización Elastic Net es comparable al obtenido con las regularizaciones Lasso y Ridge.\n",
        "2. El valor de $R^2$ es similar a los obtenidos con las otras técnicas de regularización, lo que sugiere que la proporción de variabilidad explicada por el modelo no ha cambiado significativamente con la regularización Elastic Net.\n",
        "3. A pesar de probar diferentes técnicas de regularización, el rendimiento del modelo no ha mejorado significativamente. Esto podría indicar que se necesita un enfoque diferente para mejorar el modelo, como agregar más características, realizar ingeniería de características o considerar modelos no lineales."
      ],
      "metadata": {
        "id": "hu0pxc5pUjVk"
      }
    },
    {
      "cell_type": "markdown",
      "source": [
        "Para determinar cuál de las tres regresiones es la más óptima, podemos comparar el MSE en el conjunto de prueba y el Coeficiente de Determinación $R^2$ para cada una:\n",
        "\n",
        "1. **Regresión Lineal Múltiple**:\n",
        "   - MSE: \\(1,534,479,293,620.27\\)\n",
        "   - $R^2$: 0.228\n",
        "2. **Lasso**:\n",
        "   - MSE: \\(1,542,775,955,406.57\\)\n",
        "   - $R^2$: 0.224\n",
        "3. **Ridge**:\n",
        "   - MSE: \\(1,545,244,326,512.27\\)\n",
        "   - $R^2$: 0.222\n",
        "4. **Elastic Net**:\n",
        "   - MSE: \\(1,547,808,857,932.33\\)\n",
        "   - $R^2$: 0.221\n",
        "\n",
        "Dado que un MSE más bajo y un $R^2$ más alto son preferibles, la **Regresión Lineal Múltiple** tiene el mejor rendimiento en este caso. Sin embargo, las diferencias entre las técnicas son pequeñas, lo que indica que la regularización no tuvo un impacto significativo en el rendimiento del modelo para este conjunto de datos.\n",
        "\n",
        "La ecuación final de la regresión lineal múltiple es:\n",
        "\n",
        "$$Price = β_0 + β_1 * sqft + β_2 * baths + β_3 * beds$$\n",
        "\n",
        "Donde $β_0$ es el intercepto y $β_1$, $β_2$ y $β_3$ son los coeficientes de las variables independientes. Vamos a obtener estos coeficientes.\n",
        "\n",
        "Los coeficientes para la regresión lineal múltiple son:\n",
        "\n",
        "- $β_0$ (Intercepto): -55,832.74\n",
        "- $β_1$ (Coeficiente para sqft): 360.28\n",
        "- $β_2$ (Coeficiente para baths): 30,716.84\n",
        "- $β_3$ (Coeficiente para beds): -76,304.77\n",
        "\n",
        "Por lo tanto, la ecuación final del modelo es:\n",
        "\n",
        "$Price = -55,832.74 + 360.28 * sqft + 30,716.84 * baths - 76,304.77 * beds$\n",
        "\n",
        "Con esta ecuación, podemos predecir el precio de una vivienda en función de su superficie en pies cuadrados, número de baños y número de dormitorios. Es importante tener en cuenta que, aunque esta ecuación proporciona una relación lineal entre las características y el precio, el modelo tiene un error asociado y sus predicciones pueden no ser exactas en todos los casos."
      ],
      "metadata": {
        "id": "Rq_CrsLaHdzr"
      }
    }
  ]
}