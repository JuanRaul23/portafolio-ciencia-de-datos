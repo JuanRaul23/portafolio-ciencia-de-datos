{
  "nbformat": 4,
  "nbformat_minor": 0,
  "metadata": {
    "colab": {
      "provenance": [],
      "mount_file_id": "1lt3XsRm3DLaJbXzOR3zxIhdQyoganBDO",
      "authorship_tag": "ABX9TyOi9B4KUA52GG/9JIUAasym",
      "include_colab_link": true
    },
    "kernelspec": {
      "name": "python3",
      "display_name": "Python 3"
    },
    "language_info": {
      "name": "python"
    }
  },
  "cells": [
    {
      "cell_type": "markdown",
      "metadata": {
        "id": "view-in-github",
        "colab_type": "text"
      },
      "source": [
        "<a href=\"https://colab.research.google.com/github/JuanRaul23/portafolio-ciencia-de-datos/blob/master/regresion_multiple_arizona_houses_2021.ipynb\" target=\"_parent\"><img src=\"https://colab.research.google.com/assets/colab-badge.svg\" alt=\"Open In Colab\"/></a>"
      ]
    },
    {
      "cell_type": "markdown",
      "source": [
        "# Fuente de datos: **[Arizona Houses 2021](https://www.kaggle.com/datasets/antoniong203/arizona-houses-2021)**, Kaggle\n",
        "\n",
        "El conjunto de datos contiene casas de Arizona que se han listado anteriormente y algunas de sus características e información."
      ],
      "metadata": {
        "id": "78lRofpKuuok"
      }
    },
    {
      "cell_type": "markdown",
      "source": [
        "# Paso 1: Cargar el conjunto de datos y explorarlo"
      ],
      "metadata": {
        "id": "chwilPETu3Q9"
      }
    },
    {
      "cell_type": "code",
      "execution_count": null,
      "metadata": {
        "colab": {
          "base_uri": "https://localhost:8080/",
          "height": 206
        },
        "id": "DExDdjreul41",
        "outputId": "d2071fc6-a092-4c1c-9531-e81fa694df04"
      },
      "outputs": [
        {
          "output_type": "execute_result",
          "data": {
            "text/plain": [
              "    Price                     address      Local_area zipcode  beds  baths  \\\n",
              "0  229900      11444 N 28th Dr APT 14         Phoenix   85029   2.0    3.0   \n",
              "1  294900  107 W Camino Rancho Lucido       Sahuarita   85629   4.0    3.0   \n",
              "2  683100        3320 E Briarwood Ter         Phoenix   85048   4.0    4.0   \n",
              "3  260000        2401 N 70th St APT H      Scottsdale   85257   2.0    1.0   \n",
              "4  290900          3781 E Sierrita Rd  San Tan Valley   85143   2.0    2.0   \n",
              "\n",
              "     sqft                                                url  \n",
              "0  1498.0  https://www.zillow.com/homedetails/11444-N-28t...  \n",
              "1  1951.0  https://www.zillow.com/homedetails/107-W-Camin...  \n",
              "2  3110.0  https://www.zillow.com/homedetails/3320-E-Bria...  \n",
              "3   759.0  https://www.zillow.com/homedetails/2401-N-70th...  \n",
              "4  1052.0  https://www.zillow.com/homedetails/3781-E-Sier...  "
            ],
            "text/html": [
              "\n",
              "\n",
              "  <div id=\"df-2c7f8373-c263-48e5-8421-01e6c324af8f\">\n",
              "    <div class=\"colab-df-container\">\n",
              "      <div>\n",
              "<style scoped>\n",
              "    .dataframe tbody tr th:only-of-type {\n",
              "        vertical-align: middle;\n",
              "    }\n",
              "\n",
              "    .dataframe tbody tr th {\n",
              "        vertical-align: top;\n",
              "    }\n",
              "\n",
              "    .dataframe thead th {\n",
              "        text-align: right;\n",
              "    }\n",
              "</style>\n",
              "<table border=\"1\" class=\"dataframe\">\n",
              "  <thead>\n",
              "    <tr style=\"text-align: right;\">\n",
              "      <th></th>\n",
              "      <th>Price</th>\n",
              "      <th>address</th>\n",
              "      <th>Local_area</th>\n",
              "      <th>zipcode</th>\n",
              "      <th>beds</th>\n",
              "      <th>baths</th>\n",
              "      <th>sqft</th>\n",
              "      <th>url</th>\n",
              "    </tr>\n",
              "  </thead>\n",
              "  <tbody>\n",
              "    <tr>\n",
              "      <th>0</th>\n",
              "      <td>229900</td>\n",
              "      <td>11444 N 28th Dr APT 14</td>\n",
              "      <td>Phoenix</td>\n",
              "      <td>85029</td>\n",
              "      <td>2.0</td>\n",
              "      <td>3.0</td>\n",
              "      <td>1498.0</td>\n",
              "      <td>https://www.zillow.com/homedetails/11444-N-28t...</td>\n",
              "    </tr>\n",
              "    <tr>\n",
              "      <th>1</th>\n",
              "      <td>294900</td>\n",
              "      <td>107 W Camino Rancho Lucido</td>\n",
              "      <td>Sahuarita</td>\n",
              "      <td>85629</td>\n",
              "      <td>4.0</td>\n",
              "      <td>3.0</td>\n",
              "      <td>1951.0</td>\n",
              "      <td>https://www.zillow.com/homedetails/107-W-Camin...</td>\n",
              "    </tr>\n",
              "    <tr>\n",
              "      <th>2</th>\n",
              "      <td>683100</td>\n",
              "      <td>3320 E Briarwood Ter</td>\n",
              "      <td>Phoenix</td>\n",
              "      <td>85048</td>\n",
              "      <td>4.0</td>\n",
              "      <td>4.0</td>\n",
              "      <td>3110.0</td>\n",
              "      <td>https://www.zillow.com/homedetails/3320-E-Bria...</td>\n",
              "    </tr>\n",
              "    <tr>\n",
              "      <th>3</th>\n",
              "      <td>260000</td>\n",
              "      <td>2401 N 70th St APT H</td>\n",
              "      <td>Scottsdale</td>\n",
              "      <td>85257</td>\n",
              "      <td>2.0</td>\n",
              "      <td>1.0</td>\n",
              "      <td>759.0</td>\n",
              "      <td>https://www.zillow.com/homedetails/2401-N-70th...</td>\n",
              "    </tr>\n",
              "    <tr>\n",
              "      <th>4</th>\n",
              "      <td>290900</td>\n",
              "      <td>3781 E Sierrita Rd</td>\n",
              "      <td>San Tan Valley</td>\n",
              "      <td>85143</td>\n",
              "      <td>2.0</td>\n",
              "      <td>2.0</td>\n",
              "      <td>1052.0</td>\n",
              "      <td>https://www.zillow.com/homedetails/3781-E-Sier...</td>\n",
              "    </tr>\n",
              "  </tbody>\n",
              "</table>\n",
              "</div>\n",
              "      <button class=\"colab-df-convert\" onclick=\"convertToInteractive('df-2c7f8373-c263-48e5-8421-01e6c324af8f')\"\n",
              "              title=\"Convert this dataframe to an interactive table.\"\n",
              "              style=\"display:none;\">\n",
              "\n",
              "  <svg xmlns=\"http://www.w3.org/2000/svg\" height=\"24px\"viewBox=\"0 0 24 24\"\n",
              "       width=\"24px\">\n",
              "    <path d=\"M0 0h24v24H0V0z\" fill=\"none\"/>\n",
              "    <path d=\"M18.56 5.44l.94 2.06.94-2.06 2.06-.94-2.06-.94-.94-2.06-.94 2.06-2.06.94zm-11 1L8.5 8.5l.94-2.06 2.06-.94-2.06-.94L8.5 2.5l-.94 2.06-2.06.94zm10 10l.94 2.06.94-2.06 2.06-.94-2.06-.94-.94-2.06-.94 2.06-2.06.94z\"/><path d=\"M17.41 7.96l-1.37-1.37c-.4-.4-.92-.59-1.43-.59-.52 0-1.04.2-1.43.59L10.3 9.45l-7.72 7.72c-.78.78-.78 2.05 0 2.83L4 21.41c.39.39.9.59 1.41.59.51 0 1.02-.2 1.41-.59l7.78-7.78 2.81-2.81c.8-.78.8-2.07 0-2.86zM5.41 20L4 18.59l7.72-7.72 1.47 1.35L5.41 20z\"/>\n",
              "  </svg>\n",
              "      </button>\n",
              "\n",
              "\n",
              "\n",
              "    <div id=\"df-fdc9fae3-393c-44b6-957d-68dd2cfe02c7\">\n",
              "      <button class=\"colab-df-quickchart\" onclick=\"quickchart('df-fdc9fae3-393c-44b6-957d-68dd2cfe02c7')\"\n",
              "              title=\"Suggest charts.\"\n",
              "              style=\"display:none;\">\n",
              "\n",
              "<svg xmlns=\"http://www.w3.org/2000/svg\" height=\"24px\"viewBox=\"0 0 24 24\"\n",
              "     width=\"24px\">\n",
              "    <g>\n",
              "        <path d=\"M19 3H5c-1.1 0-2 .9-2 2v14c0 1.1.9 2 2 2h14c1.1 0 2-.9 2-2V5c0-1.1-.9-2-2-2zM9 17H7v-7h2v7zm4 0h-2V7h2v10zm4 0h-2v-4h2v4z\"/>\n",
              "    </g>\n",
              "</svg>\n",
              "      </button>\n",
              "    </div>\n",
              "\n",
              "<style>\n",
              "  .colab-df-quickchart {\n",
              "    background-color: #E8F0FE;\n",
              "    border: none;\n",
              "    border-radius: 50%;\n",
              "    cursor: pointer;\n",
              "    display: none;\n",
              "    fill: #1967D2;\n",
              "    height: 32px;\n",
              "    padding: 0 0 0 0;\n",
              "    width: 32px;\n",
              "  }\n",
              "\n",
              "  .colab-df-quickchart:hover {\n",
              "    background-color: #E2EBFA;\n",
              "    box-shadow: 0px 1px 2px rgba(60, 64, 67, 0.3), 0px 1px 3px 1px rgba(60, 64, 67, 0.15);\n",
              "    fill: #174EA6;\n",
              "  }\n",
              "\n",
              "  [theme=dark] .colab-df-quickchart {\n",
              "    background-color: #3B4455;\n",
              "    fill: #D2E3FC;\n",
              "  }\n",
              "\n",
              "  [theme=dark] .colab-df-quickchart:hover {\n",
              "    background-color: #434B5C;\n",
              "    box-shadow: 0px 1px 3px 1px rgba(0, 0, 0, 0.15);\n",
              "    filter: drop-shadow(0px 1px 2px rgba(0, 0, 0, 0.3));\n",
              "    fill: #FFFFFF;\n",
              "  }\n",
              "</style>\n",
              "\n",
              "    <script>\n",
              "      async function quickchart(key) {\n",
              "        const containerElement = document.querySelector('#' + key);\n",
              "        const charts = await google.colab.kernel.invokeFunction(\n",
              "            'suggestCharts', [key], {});\n",
              "      }\n",
              "    </script>\n",
              "\n",
              "      <script>\n",
              "\n",
              "function displayQuickchartButton(domScope) {\n",
              "  let quickchartButtonEl =\n",
              "    domScope.querySelector('#df-fdc9fae3-393c-44b6-957d-68dd2cfe02c7 button.colab-df-quickchart');\n",
              "  quickchartButtonEl.style.display =\n",
              "    google.colab.kernel.accessAllowed ? 'block' : 'none';\n",
              "}\n",
              "\n",
              "        displayQuickchartButton(document);\n",
              "      </script>\n",
              "      <style>\n",
              "    .colab-df-container {\n",
              "      display:flex;\n",
              "      flex-wrap:wrap;\n",
              "      gap: 12px;\n",
              "    }\n",
              "\n",
              "    .colab-df-convert {\n",
              "      background-color: #E8F0FE;\n",
              "      border: none;\n",
              "      border-radius: 50%;\n",
              "      cursor: pointer;\n",
              "      display: none;\n",
              "      fill: #1967D2;\n",
              "      height: 32px;\n",
              "      padding: 0 0 0 0;\n",
              "      width: 32px;\n",
              "    }\n",
              "\n",
              "    .colab-df-convert:hover {\n",
              "      background-color: #E2EBFA;\n",
              "      box-shadow: 0px 1px 2px rgba(60, 64, 67, 0.3), 0px 1px 3px 1px rgba(60, 64, 67, 0.15);\n",
              "      fill: #174EA6;\n",
              "    }\n",
              "\n",
              "    [theme=dark] .colab-df-convert {\n",
              "      background-color: #3B4455;\n",
              "      fill: #D2E3FC;\n",
              "    }\n",
              "\n",
              "    [theme=dark] .colab-df-convert:hover {\n",
              "      background-color: #434B5C;\n",
              "      box-shadow: 0px 1px 3px 1px rgba(0, 0, 0, 0.15);\n",
              "      filter: drop-shadow(0px 1px 2px rgba(0, 0, 0, 0.3));\n",
              "      fill: #FFFFFF;\n",
              "    }\n",
              "  </style>\n",
              "\n",
              "      <script>\n",
              "        const buttonEl =\n",
              "          document.querySelector('#df-2c7f8373-c263-48e5-8421-01e6c324af8f button.colab-df-convert');\n",
              "        buttonEl.style.display =\n",
              "          google.colab.kernel.accessAllowed ? 'block' : 'none';\n",
              "\n",
              "        async function convertToInteractive(key) {\n",
              "          const element = document.querySelector('#df-2c7f8373-c263-48e5-8421-01e6c324af8f');\n",
              "          const dataTable =\n",
              "            await google.colab.kernel.invokeFunction('convertToInteractive',\n",
              "                                                     [key], {});\n",
              "          if (!dataTable) return;\n",
              "\n",
              "          const docLinkHtml = 'Like what you see? Visit the ' +\n",
              "            '<a target=\"_blank\" href=https://colab.research.google.com/notebooks/data_table.ipynb>data table notebook</a>'\n",
              "            + ' to learn more about interactive tables.';\n",
              "          element.innerHTML = '';\n",
              "          dataTable['output_type'] = 'display_data';\n",
              "          await google.colab.output.renderOutput(dataTable, element);\n",
              "          const docLink = document.createElement('div');\n",
              "          docLink.innerHTML = docLinkHtml;\n",
              "          element.appendChild(docLink);\n",
              "        }\n",
              "      </script>\n",
              "    </div>\n",
              "  </div>\n"
            ]
          },
          "metadata": {},
          "execution_count": 1
        }
      ],
      "source": [
        "# Importar pandas\n",
        "import pandas as pd\n",
        "\n",
        "# Cargar el conjunto de datos\n",
        "data_multi = pd.read_csv('/content/drive/MyDrive/AZhousingData.csv')\n",
        "\n",
        "# Mostrar las primeras filas del conjunto de datos\n",
        "data_multi.head()"
      ]
    },
    {
      "cell_type": "markdown",
      "source": [
        "Ahora que hemos cargado el conjunto de datos, procedemos a preparar los datos y a entrenar un modelo de regresión lineal múltiple. Empezamos seleccionando las variables '**sqft**' (superficie), '**beds**' (habitaciones) y '**baths**' (baños) como variables independientes y '**Price**' como variable dependiente. Luego, dividiremos los datos en conjuntos de entrenamiento y prueba."
      ],
      "metadata": {
        "id": "IWkeaPerwB0E"
      }
    },
    {
      "cell_type": "markdown",
      "source": [
        "# Paso 2: Preparar los datos: seleccionar las variables"
      ],
      "metadata": {
        "id": "ckVwYMQxu3Eg"
      }
    },
    {
      "cell_type": "code",
      "source": [
        "# Importar el train_test_split\n",
        "from sklearn.model_selection import train_test_split\n",
        "\n",
        "# Definir las variables independiente (X_multi) y dependiente (y_multi)\n",
        "X_multi = data_multi[['sqft', 'beds', 'baths']]\n",
        "y_multi = data_multi['Price']\n",
        "\n",
        "# Dividir los datos en conjuntos de entrenamiento y prueba (80% entrenamiento, 20% prueba)\n",
        "X_train_multi, X_test_multi, y_train_multi, y_test_multi = train_test_split(X_multi, y_multi, test_size=0.2, random_state=42)\n",
        "\n",
        "X_train_multi.shape, X_test_multi.shape"
      ],
      "metadata": {
        "colab": {
          "base_uri": "https://localhost:8080/"
        },
        "id": "w6O02VNwwOkh",
        "outputId": "0ee5cb22-5897-4fd9-b07c-4fedc9026907"
      },
      "execution_count": null,
      "outputs": [
        {
          "output_type": "execute_result",
          "data": {
            "text/plain": [
              "((450, 3), (113, 3))"
            ]
          },
          "metadata": {},
          "execution_count": 2
        }
      ]
    },
    {
      "cell_type": "markdown",
      "source": [
        "Hemos dividido el conjunto de datos en dos partes: un conjunto de entrenamiento con 450 ejemplos y un conjunto de prueba con 113 ejemplos."
      ],
      "metadata": {
        "id": "Vv-BNjNVwVJv"
      }
    },
    {
      "cell_type": "markdown",
      "source": [
        "# Paso 3: Entrenar un modelo de regresión lineal múltiple utilizando el conjunto de entrenamiento\n",
        "\n",
        "Ahora, procedemos a entrenar un modelo de regresión lineal múltiple utilizando las variables '**sqft**' (superficie), '**beds**' (habitaciones) y '**baths**' (baños) como predictores."
      ],
      "metadata": {
        "id": "u0IkFaNvu25O"
      }
    },
    {
      "cell_type": "code",
      "source": [
        "# Importando LinearRegression\n",
        "from sklearn.linear_model import LinearRegression\n",
        "\n",
        "# Crear y entrenar el modelo de regresión lineal múltiple\n",
        "model_multi = LinearRegression()\n",
        "model_multi.fit(X_train_multi, y_train_multi)\n",
        "\n",
        "# Coeficientes del modelo\n",
        "coefficients = model_multi.coef_\n",
        "intercept_multi = model_multi.intercept_\n",
        "\n",
        "coefficients, intercept_multi"
      ],
      "metadata": {
        "colab": {
          "base_uri": "https://localhost:8080/"
        },
        "id": "io-2p64byyMT",
        "outputId": "bf39479b-882b-44c6-e9f4-c5b20e578ca7"
      },
      "execution_count": null,
      "outputs": [
        {
          "output_type": "execute_result",
          "data": {
            "text/plain": [
              "(array([   360.27644345, -76304.76986854,  30716.84004831]),\n",
              " -55832.73935353925)"
            ]
          },
          "metadata": {},
          "execution_count": 3
        }
      ]
    },
    {
      "cell_type": "markdown",
      "source": [
        "El modelo de regresión lineal múltiple que hemos entrenado tiene la siguiente ecuación:  \n",
        "\n",
        "$Precio = 360.28 × sqft − 76,304.77 × beds + 30,716.84 × baths − 55,832.74$  \n",
        "\n",
        "* Precio es el precio de la vivienda.\n",
        "* sqft es el área de la vivienda en pies cuadrados.\n",
        "* beds es el número de habitaciones.\n",
        "* baths es el número de baños."
      ],
      "metadata": {
        "id": "9Scb1CcvYJ2b"
      }
    },
    {
      "cell_type": "markdown",
      "source": [
        "#Paso 4: Evaluar el rendimiento del modelo en el conjunto de prueba\n",
        "\n",
        "Evaluamos el rendimiento del modelo en el conjunto de prueba utilizando el error cuadrático medio (MSE) como métrica de evaluación."
      ],
      "metadata": {
        "id": "fiduAF9Uu2vX"
      }
    },
    {
      "cell_type": "code",
      "source": [
        "# Importando mean_squared_error y numpy\n",
        "from sklearn.metrics import mean_squared_error\n",
        "import numpy as np\n",
        "\n",
        "# Predecir los precios en el conjunto de prueba\n",
        "y_pred_multi = model_multi.predict(X_test_multi)\n",
        "\n",
        "# Calcular nuevamente el error cuadrático medio (MSE)\n",
        "mse_multi = mean_squared_error(y_test_multi, y_pred_multi)\n",
        "\n",
        "# Calcular nuevamente la raíz cuadrada del error cuadrático medio (RMSE)\n",
        "rmse_multi = np.sqrt(mse_multi)\n",
        "\n",
        "mse_multi, rmse_multi"
      ],
      "metadata": {
        "colab": {
          "base_uri": "https://localhost:8080/"
        },
        "id": "WLHm4Da1Y4Mb",
        "outputId": "21598563-517d-417d-b4a2-dfb28458f44c"
      },
      "execution_count": null,
      "outputs": [
        {
          "output_type": "execute_result",
          "data": {
            "text/plain": [
              "(1534479293620.2666, 1238741.0115194647)"
            ]
          },
          "metadata": {},
          "execution_count": 7
        }
      ]
    },
    {
      "cell_type": "markdown",
      "source": [
        "El error cuadrático medio (MSE) para la regresión lineal múltiple en el conjunto de prueba es aproximadamente $1.534 × 10^12$. El error cuadrático medio raíz (RMSE) es aproximadamente $1,238,741.01, lo que indica que, en promedio, nuestras predicciones se desvían del valor real por aproximadamente 1.24 millones de dólares."
      ],
      "metadata": {
        "id": "0LRlr1D-aIoc"
      }
    },
    {
      "cell_type": "markdown",
      "source": [
        "# Paso 5: Visualizar los resultados con una gráfica\n",
        "\n",
        "A continuación, visualizaremos los resultados reales frente a las predicciones en una gráfica. Dado que estamos trabajando con múltiples variables independientes, una gráfica de dispersión 2D no es suficiente para representar todas las dimensiones. Sin embargo, podemos visualizar los precios reales frente a los precios predichos para obtener una idea de cuán cerca están nuestras predicciones de los valores reales."
      ],
      "metadata": {
        "id": "z3nwDlZ9u2hy"
      }
    },
    {
      "cell_type": "code",
      "source": [
        "# Importando pyplot y seaborn\n",
        "import matplotlib.pyplot as plt\n",
        "import seaborn as sns\n",
        "\n",
        "# Configurar el tamaño de la figura\n",
        "plt.figure(figsize=(10, 6))\n",
        "\n",
        "# Gráfica de dispersión comparando precios reales con precios predichos\n",
        "sns.scatterplot(x=y_test_multi, y=y_pred_multi, color='blue', label='Datos reales')\n",
        "\n",
        "# Línea diagonal para referencia\n",
        "plt.plot([min(y_test_multi), max(y_test_multi)], [min(y_test_multi), max(y_test_multi)], color='red')\n",
        "\n",
        "# Títulos y etiquetas\n",
        "plt.title('Precios Reales vs Precios Predichos')\n",
        "plt.xlabel('Precio Real')\n",
        "plt.ylabel('Precio Predicho')\n",
        "plt.grid(True)\n",
        "\n",
        "plt.show()"
      ],
      "metadata": {
        "colab": {
          "base_uri": "https://localhost:8080/",
          "height": 564
        },
        "id": "O707D5d5aliT",
        "outputId": "bc8b6709-f317-4a60-d2b9-23be18cf34b8"
      },
      "execution_count": null,
      "outputs": [
        {
          "output_type": "display_data",
          "data": {
            "text/plain": [
              "<Figure size 1000x600 with 1 Axes>"
            ],
            "image/png": "[encoded data removed]"
          },
          "metadata": {}
        }
      ]
    },
    {
      "cell_type": "markdown",
      "source": [
        "Gráfica que compara los precios reales con los precios predichos por el modelo. Los puntos azules representan las viviendas, donde el eje **$x$** muestra el precio real y el eje $y$ muestra el precio predicho por el modelo. La línea roja diagonal es una línea de referencia que representa una predicción perfecta.  \n",
        "\n",
        "Idealmente, todos los puntos deberían estar cerca de esta línea roja, lo que indicaría que las predicciones del modelo son cercanas a los valores reales. Como puedes observar, hay cierta dispersión en los puntos, lo que indica que hay un margen de error en las predicciones. Sin embargo, en general, parece que el modelo ha capturado una tendencia general en los datos.  \n",
        "\n",
        "Debemos recordar que siempre hay margen de mejora, y podriamos considerar otros factores o utilizar modelos más complejos para mejorar las predicciones en el futuro."
      ],
      "metadata": {
        "id": "IXWp_83fcisO"
      }
    }
  ]
}