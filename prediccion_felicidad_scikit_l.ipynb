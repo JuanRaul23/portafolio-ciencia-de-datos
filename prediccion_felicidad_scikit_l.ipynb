{
  "nbformat": 4,
  "nbformat_minor": 0,
  "metadata": {
    "colab": {
      "provenance": [],
      "mount_file_id": "1nPuNFRKgsdbzaMEpmEIUbAriWIufEEEn",
      "authorship_tag": "ABX9TyOSt5aYs6txCVwqexiThBOK",
      "include_colab_link": true
    },
    "kernelspec": {
      "name": "python3",
      "display_name": "Python 3"
    },
    "language_info": {
      "name": "python"
    }
  },
  "cells": [
    {
      "cell_type": "markdown",
      "metadata": {
        "id": "view-in-github",
        "colab_type": "text"
      },
      "source": [
        "<a href=\"https://colab.research.google.com/github/JuanRaul23/portafolio-ciencia-de-datos/blob/master/prediccion_felicidad_scikit_l.ipynb\" target=\"_parent\"><img src=\"https://colab.research.google.com/assets/colab-badge.svg\" alt=\"Open In Colab\"/></a>"
      ]
    },
    {
      "cell_type": "markdown",
      "source": [
        "## Carga de los datos"
      ],
      "metadata": {
        "id": "vki7CdTkoi_U"
      }
    },
    {
      "cell_type": "code",
      "execution_count": 15,
      "metadata": {
        "colab": {
          "base_uri": "https://localhost:8080/",
          "height": 206
        },
        "id": "PX1DPHubnwSU",
        "outputId": "a9da2c67-93f0-4c47-f205-99b7d48ecee5"
      },
      "outputs": [
        {
          "output_type": "execute_result",
          "data": {
            "text/plain": [
              "       country  rank  score      high       low       gdp    family    lifexp  \\\n",
              "0       Norway     1  7.537  7.594445  7.479556  1.616463  1.533524  0.796667   \n",
              "1      Denmark     2  7.522  7.581728  7.462272  1.482383  1.551122  0.792566   \n",
              "2      Iceland     3  7.504  7.622030  7.385970  1.480633  1.610574  0.833552   \n",
              "3  Switzerland     4  7.494  7.561772  7.426227  1.564980  1.516912  0.858131   \n",
              "4      Finland     5  7.469  7.527542  7.410458  1.443572  1.540247  0.809158   \n",
              "\n",
              "    freedom  generosity  corruption  dystopia  \n",
              "0  0.635423    0.362012    0.315964  2.277027  \n",
              "1  0.626007    0.355280    0.400770  2.313707  \n",
              "2  0.627163    0.475540    0.153527  2.322715  \n",
              "3  0.620071    0.290549    0.367007  2.276716  \n",
              "4  0.617951    0.245483    0.382612  2.430182  "
            ],
            "text/html": [
              "\n",
              "  <div id=\"df-3bd1812c-cb22-4791-b19d-24ccf2aaa410\" class=\"colab-df-container\">\n",
              "    <div>\n",
              "<style scoped>\n",
              "    .dataframe tbody tr th:only-of-type {\n",
              "        vertical-align: middle;\n",
              "    }\n",
              "\n",
              "    .dataframe tbody tr th {\n",
              "        vertical-align: top;\n",
              "    }\n",
              "\n",
              "    .dataframe thead th {\n",
              "        text-align: right;\n",
              "    }\n",
              "</style>\n",
              "<table border=\"1\" class=\"dataframe\">\n",
              "  <thead>\n",
              "    <tr style=\"text-align: right;\">\n",
              "      <th></th>\n",
              "      <th>country</th>\n",
              "      <th>rank</th>\n",
              "      <th>score</th>\n",
              "      <th>high</th>\n",
              "      <th>low</th>\n",
              "      <th>gdp</th>\n",
              "      <th>family</th>\n",
              "      <th>lifexp</th>\n",
              "      <th>freedom</th>\n",
              "      <th>generosity</th>\n",
              "      <th>corruption</th>\n",
              "      <th>dystopia</th>\n",
              "    </tr>\n",
              "  </thead>\n",
              "  <tbody>\n",
              "    <tr>\n",
              "      <th>0</th>\n",
              "      <td>Norway</td>\n",
              "      <td>1</td>\n",
              "      <td>7.537</td>\n",
              "      <td>7.594445</td>\n",
              "      <td>7.479556</td>\n",
              "      <td>1.616463</td>\n",
              "      <td>1.533524</td>\n",
              "      <td>0.796667</td>\n",
              "      <td>0.635423</td>\n",
              "      <td>0.362012</td>\n",
              "      <td>0.315964</td>\n",
              "      <td>2.277027</td>\n",
              "    </tr>\n",
              "    <tr>\n",
              "      <th>1</th>\n",
              "      <td>Denmark</td>\n",
              "      <td>2</td>\n",
              "      <td>7.522</td>\n",
              "      <td>7.581728</td>\n",
              "      <td>7.462272</td>\n",
              "      <td>1.482383</td>\n",
              "      <td>1.551122</td>\n",
              "      <td>0.792566</td>\n",
              "      <td>0.626007</td>\n",
              "      <td>0.355280</td>\n",
              "      <td>0.400770</td>\n",
              "      <td>2.313707</td>\n",
              "    </tr>\n",
              "    <tr>\n",
              "      <th>2</th>\n",
              "      <td>Iceland</td>\n",
              "      <td>3</td>\n",
              "      <td>7.504</td>\n",
              "      <td>7.622030</td>\n",
              "      <td>7.385970</td>\n",
              "      <td>1.480633</td>\n",
              "      <td>1.610574</td>\n",
              "      <td>0.833552</td>\n",
              "      <td>0.627163</td>\n",
              "      <td>0.475540</td>\n",
              "      <td>0.153527</td>\n",
              "      <td>2.322715</td>\n",
              "    </tr>\n",
              "    <tr>\n",
              "      <th>3</th>\n",
              "      <td>Switzerland</td>\n",
              "      <td>4</td>\n",
              "      <td>7.494</td>\n",
              "      <td>7.561772</td>\n",
              "      <td>7.426227</td>\n",
              "      <td>1.564980</td>\n",
              "      <td>1.516912</td>\n",
              "      <td>0.858131</td>\n",
              "      <td>0.620071</td>\n",
              "      <td>0.290549</td>\n",
              "      <td>0.367007</td>\n",
              "      <td>2.276716</td>\n",
              "    </tr>\n",
              "    <tr>\n",
              "      <th>4</th>\n",
              "      <td>Finland</td>\n",
              "      <td>5</td>\n",
              "      <td>7.469</td>\n",
              "      <td>7.527542</td>\n",
              "      <td>7.410458</td>\n",
              "      <td>1.443572</td>\n",
              "      <td>1.540247</td>\n",
              "      <td>0.809158</td>\n",
              "      <td>0.617951</td>\n",
              "      <td>0.245483</td>\n",
              "      <td>0.382612</td>\n",
              "      <td>2.430182</td>\n",
              "    </tr>\n",
              "  </tbody>\n",
              "</table>\n",
              "</div>\n",
              "    <div class=\"colab-df-buttons\">\n",
              "\n",
              "  <div class=\"colab-df-container\">\n",
              "    <button class=\"colab-df-convert\" onclick=\"convertToInteractive('df-3bd1812c-cb22-4791-b19d-24ccf2aaa410')\"\n",
              "            title=\"Convert this dataframe to an interactive table.\"\n",
              "            style=\"display:none;\">\n",
              "\n",
              "  <svg xmlns=\"http://www.w3.org/2000/svg\" height=\"24px\" viewBox=\"0 -960 960 960\">\n",
              "    <path d=\"M120-120v-720h720v720H120Zm60-500h600v-160H180v160Zm220 220h160v-160H400v160Zm0 220h160v-160H400v160ZM180-400h160v-160H180v160Zm440 0h160v-160H620v160ZM180-180h160v-160H180v160Zm440 0h160v-160H620v160Z\"/>\n",
              "  </svg>\n",
              "    </button>\n",
              "\n",
              "  <style>\n",
              "    .colab-df-container {\n",
              "      display:flex;\n",
              "      gap: 12px;\n",
              "    }\n",
              "\n",
              "    .colab-df-convert {\n",
              "      background-color: #E8F0FE;\n",
              "      border: none;\n",
              "      border-radius: 50%;\n",
              "      cursor: pointer;\n",
              "      display: none;\n",
              "      fill: #1967D2;\n",
              "      height: 32px;\n",
              "      padding: 0 0 0 0;\n",
              "      width: 32px;\n",
              "    }\n",
              "\n",
              "    .colab-df-convert:hover {\n",
              "      background-color: #E2EBFA;\n",
              "      box-shadow: 0px 1px 2px rgba(60, 64, 67, 0.3), 0px 1px 3px 1px rgba(60, 64, 67, 0.15);\n",
              "      fill: #174EA6;\n",
              "    }\n",
              "\n",
              "    .colab-df-buttons div {\n",
              "      margin-bottom: 4px;\n",
              "    }\n",
              "\n",
              "    [theme=dark] .colab-df-convert {\n",
              "      background-color: #3B4455;\n",
              "      fill: #D2E3FC;\n",
              "    }\n",
              "\n",
              "    [theme=dark] .colab-df-convert:hover {\n",
              "      background-color: #434B5C;\n",
              "      box-shadow: 0px 1px 3px 1px rgba(0, 0, 0, 0.15);\n",
              "      filter: drop-shadow(0px 1px 2px rgba(0, 0, 0, 0.3));\n",
              "      fill: #FFFFFF;\n",
              "    }\n",
              "  </style>\n",
              "\n",
              "    <script>\n",
              "      const buttonEl =\n",
              "        document.querySelector('#df-3bd1812c-cb22-4791-b19d-24ccf2aaa410 button.colab-df-convert');\n",
              "      buttonEl.style.display =\n",
              "        google.colab.kernel.accessAllowed ? 'block' : 'none';\n",
              "\n",
              "      async function convertToInteractive(key) {\n",
              "        const element = document.querySelector('#df-3bd1812c-cb22-4791-b19d-24ccf2aaa410');\n",
              "        const dataTable =\n",
              "          await google.colab.kernel.invokeFunction('convertToInteractive',\n",
              "                                                    [key], {});\n",
              "        if (!dataTable) return;\n",
              "\n",
              "        const docLinkHtml = 'Like what you see? Visit the ' +\n",
              "          '<a target=\"_blank\" href=https://colab.research.google.com/notebooks/data_table.ipynb>data table notebook</a>'\n",
              "          + ' to learn more about interactive tables.';\n",
              "        element.innerHTML = '';\n",
              "        dataTable['output_type'] = 'display_data';\n",
              "        await google.colab.output.renderOutput(dataTable, element);\n",
              "        const docLink = document.createElement('div');\n",
              "        docLink.innerHTML = docLinkHtml;\n",
              "        element.appendChild(docLink);\n",
              "      }\n",
              "    </script>\n",
              "  </div>\n",
              "\n",
              "\n",
              "<div id=\"df-023d1387-b3dd-4974-86fa-165dea8e0e44\">\n",
              "  <button class=\"colab-df-quickchart\" onclick=\"quickchart('df-023d1387-b3dd-4974-86fa-165dea8e0e44')\"\n",
              "            title=\"Suggest charts.\"\n",
              "            style=\"display:none;\">\n",
              "\n",
              "<svg xmlns=\"http://www.w3.org/2000/svg\" height=\"24px\"viewBox=\"0 0 24 24\"\n",
              "     width=\"24px\">\n",
              "    <g>\n",
              "        <path d=\"M19 3H5c-1.1 0-2 .9-2 2v14c0 1.1.9 2 2 2h14c1.1 0 2-.9 2-2V5c0-1.1-.9-2-2-2zM9 17H7v-7h2v7zm4 0h-2V7h2v10zm4 0h-2v-4h2v4z\"/>\n",
              "    </g>\n",
              "</svg>\n",
              "  </button>\n",
              "\n",
              "<style>\n",
              "  .colab-df-quickchart {\n",
              "      --bg-color: #E8F0FE;\n",
              "      --fill-color: #1967D2;\n",
              "      --hover-bg-color: #E2EBFA;\n",
              "      --hover-fill-color: #174EA6;\n",
              "      --disabled-fill-color: #AAA;\n",
              "      --disabled-bg-color: #DDD;\n",
              "  }\n",
              "\n",
              "  [theme=dark] .colab-df-quickchart {\n",
              "      --bg-color: #3B4455;\n",
              "      --fill-color: #D2E3FC;\n",
              "      --hover-bg-color: #434B5C;\n",
              "      --hover-fill-color: #FFFFFF;\n",
              "      --disabled-bg-color: #3B4455;\n",
              "      --disabled-fill-color: #666;\n",
              "  }\n",
              "\n",
              "  .colab-df-quickchart {\n",
              "    background-color: var(--bg-color);\n",
              "    border: none;\n",
              "    border-radius: 50%;\n",
              "    cursor: pointer;\n",
              "    display: none;\n",
              "    fill: var(--fill-color);\n",
              "    height: 32px;\n",
              "    padding: 0;\n",
              "    width: 32px;\n",
              "  }\n",
              "\n",
              "  .colab-df-quickchart:hover {\n",
              "    background-color: var(--hover-bg-color);\n",
              "    box-shadow: 0 1px 2px rgba(60, 64, 67, 0.3), 0 1px 3px 1px rgba(60, 64, 67, 0.15);\n",
              "    fill: var(--button-hover-fill-color);\n",
              "  }\n",
              "\n",
              "  .colab-df-quickchart-complete:disabled,\n",
              "  .colab-df-quickchart-complete:disabled:hover {\n",
              "    background-color: var(--disabled-bg-color);\n",
              "    fill: var(--disabled-fill-color);\n",
              "    box-shadow: none;\n",
              "  }\n",
              "\n",
              "  .colab-df-spinner {\n",
              "    border: 2px solid var(--fill-color);\n",
              "    border-color: transparent;\n",
              "    border-bottom-color: var(--fill-color);\n",
              "    animation:\n",
              "      spin 1s steps(1) infinite;\n",
              "  }\n",
              "\n",
              "  @keyframes spin {\n",
              "    0% {\n",
              "      border-color: transparent;\n",
              "      border-bottom-color: var(--fill-color);\n",
              "      border-left-color: var(--fill-color);\n",
              "    }\n",
              "    20% {\n",
              "      border-color: transparent;\n",
              "      border-left-color: var(--fill-color);\n",
              "      border-top-color: var(--fill-color);\n",
              "    }\n",
              "    30% {\n",
              "      border-color: transparent;\n",
              "      border-left-color: var(--fill-color);\n",
              "      border-top-color: var(--fill-color);\n",
              "      border-right-color: var(--fill-color);\n",
              "    }\n",
              "    40% {\n",
              "      border-color: transparent;\n",
              "      border-right-color: var(--fill-color);\n",
              "      border-top-color: var(--fill-color);\n",
              "    }\n",
              "    60% {\n",
              "      border-color: transparent;\n",
              "      border-right-color: var(--fill-color);\n",
              "    }\n",
              "    80% {\n",
              "      border-color: transparent;\n",
              "      border-right-color: var(--fill-color);\n",
              "      border-bottom-color: var(--fill-color);\n",
              "    }\n",
              "    90% {\n",
              "      border-color: transparent;\n",
              "      border-bottom-color: var(--fill-color);\n",
              "    }\n",
              "  }\n",
              "</style>\n",
              "\n",
              "  <script>\n",
              "    async function quickchart(key) {\n",
              "      const quickchartButtonEl =\n",
              "        document.querySelector('#' + key + ' button');\n",
              "      quickchartButtonEl.disabled = true;  // To prevent multiple clicks.\n",
              "      quickchartButtonEl.classList.add('colab-df-spinner');\n",
              "      try {\n",
              "        const charts = await google.colab.kernel.invokeFunction(\n",
              "            'suggestCharts', [key], {});\n",
              "      } catch (error) {\n",
              "        console.error('Error during call to suggestCharts:', error);\n",
              "      }\n",
              "      quickchartButtonEl.classList.remove('colab-df-spinner');\n",
              "      quickchartButtonEl.classList.add('colab-df-quickchart-complete');\n",
              "    }\n",
              "    (() => {\n",
              "      let quickchartButtonEl =\n",
              "        document.querySelector('#df-023d1387-b3dd-4974-86fa-165dea8e0e44 button');\n",
              "      quickchartButtonEl.style.display =\n",
              "        google.colab.kernel.accessAllowed ? 'block' : 'none';\n",
              "    })();\n",
              "  </script>\n",
              "</div>\n",
              "    </div>\n",
              "  </div>\n"
            ]
          },
          "metadata": {},
          "execution_count": 15
        }
      ],
      "source": [
        "import pandas as pd\n",
        "\n",
        "# Cargar el dataset\n",
        "file_path = '/content/drive/MyDrive/felicidad.csv'\n",
        "data = pd.read_csv(file_path)\n",
        "\n",
        "# Mostrar las primeras filas del dataset\n",
        "data.head()"
      ]
    },
    {
      "cell_type": "markdown",
      "source": [
        "El conjunto de datos contiene información sobre la felicidad de diferentes países, clasificándolos según varios indicadores. Aquí están las columnas del conjunto de datos:\n",
        "\n",
        "* country: Nombre del país.\n",
        "* rank: Rango de felicidad.\n",
        "* score: Puntuación de felicidad.\n",
        "* high y low: Intervalo de confianza para la puntuación de felicidad.\n",
        "* gdp: Producto Interno Bruto per cápita.\n",
        "* family: Soporte social.\n",
        "* lifexp: Expectativa de vida saludable.\n",
        "* freedom: Libertad para tomar decisiones de vida.\n",
        "* generosity: Generosidad.\n",
        "* corruption: Percepción de la corrupción.\n",
        "* dystopia: Dystopia residual (una medida de desequilibrio)."
      ],
      "metadata": {
        "id": "-3vQZ_yOoVWc"
      }
    },
    {
      "cell_type": "markdown",
      "source": [
        "## Preprocesamiento de Datos\n",
        "Antes de aplicar PCA y construir modelos, revisemos si hay valores nulos en el conjunto de datos y si necesitamos realizar alguna transformación."
      ],
      "metadata": {
        "id": "pgzoEtN6ooUM"
      }
    },
    {
      "cell_type": "code",
      "source": [
        "# Verificar si hay valores nulos en el dataset\n",
        "null_values = data.isnull().sum()\n",
        "\n",
        "# Mostrar columnas con valores nulos, si los hay\n",
        "null_values[null_values > 0]"
      ],
      "metadata": {
        "colab": {
          "base_uri": "https://localhost:8080/"
        },
        "id": "-xguOoTXpLwK",
        "outputId": "6e32f063-d51c-4c9d-bda1-92262fe842d4"
      },
      "execution_count": 16,
      "outputs": [
        {
          "output_type": "execute_result",
          "data": {
            "text/plain": [
              "Series([], dtype: int64)"
            ]
          },
          "metadata": {},
          "execution_count": 16
        }
      ]
    },
    {
      "cell_type": "markdown",
      "source": [
        "El conjunto de datos no contiene valores nulos. Ahora, procederemos a realizar la reducción de dimensionalidad utilizando PCA."
      ],
      "metadata": {
        "id": "HM5L54XvpO--"
      }
    },
    {
      "cell_type": "markdown",
      "source": [
        "## Aplicación de PCA\n",
        "Antes de aplicar PCA, es importante estandarizar los datos, ya que PCA es sensible a la escala de las variables. Luego, aplicaremos PCA y visualizaremos la varianza explicada por cada componente principal. Esto nos ayudará a decidir cuántas componentes principales retener.  \n",
        "\n",
        "Vamos a estandarizar los datos y aplicar PCA."
      ],
      "metadata": {
        "id": "mhERnmZ3o0yc"
      }
    },
    {
      "cell_type": "code",
      "source": [
        "from sklearn.decomposition import PCA\n",
        "from sklearn.preprocessing import StandardScaler\n",
        "import matplotlib.pyplot as plt\n",
        "import numpy as np\n",
        "\n",
        "# Seleccionar las características numéricas para aplicar PCA\n",
        "features = data.drop(columns=['country', 'rank', 'score', 'high', 'low'])\n",
        "\n",
        "# Estandarizar los datos\n",
        "scaler = StandardScaler()\n",
        "scaled_features = scaler.fit_transform(features)\n",
        "\n",
        "# Aplicar PCA\n",
        "pca = PCA()\n",
        "principal_components = pca.fit_transform(scaled_features)\n",
        "\n",
        "# Varianza explicada por cada componente principal\n",
        "explained_variance_ratio = pca.explained_variance_ratio_\n",
        "\n",
        "# Gráfico de la varianza explicada acumulada\n",
        "plt.figure(figsize=(10, 6))\n",
        "plt.plot(range(1, len(explained_variance_ratio) + 1), np.cumsum(explained_variance_ratio), marker='o')\n",
        "plt.title('Varianza Explicada Acumulada por Componentes Principales')\n",
        "plt.xlabel('Número de Componentes Principales')\n",
        "plt.ylabel('Varianza Explicada Acumulada')\n",
        "plt.grid(True)\n",
        "plt.show()"
      ],
      "metadata": {
        "colab": {
          "base_uri": "https://localhost:8080/",
          "height": 565
        },
        "id": "y_D4ZpjSpalB",
        "outputId": "891962ce-7453-4e7d-de77-96dfee36d9cc"
      },
      "execution_count": 17,
      "outputs": [
        {
          "output_type": "display_data",
          "data": {
            "text/plain": [
              "<Figure size 1000x600 with 1 Axes>"
            ],
            "image/png": "[encoded data removed]"
          },
          "metadata": {}
        }
      ]
    },
    {
      "cell_type": "markdown",
      "source": [
        "En el gráfico de la varianza explicada acumulada por componentes principales, podemos observar cómo aumenta la varianza explicada a medida que incluimos más componentes. La elección del número de componentes principales a retener depende del nivel de varianza que deseamos explicar.  \n",
        "\n",
        "Podemos observar que con un pequeño número de componentes principales, ya se explica una gran proporción de la varianza. Por lo tanto, podríamos elegir un número reducido de componentes para la reducción de dimensionalidad."
      ],
      "metadata": {
        "id": "j7qIOkWEqBFG"
      }
    },
    {
      "cell_type": "markdown",
      "source": [
        "## Modelado\n",
        "Ahora, vamos a entrenar modelos lineales regularizados utilizando las componentes principales seleccionadas como características. Compararemos los modelos Lasso, Ridge y ElasticNet en términos de su rendimiento para predecir la puntuación de felicidad (score).  \n",
        "\n",
        "Vamos a proceder utilizando las primeras **4 componentes** principales para entrenar los modelos. Compararemos los modelos Lasso, Ridge y ElasticNet utilizando validación cruzada para evaluar su rendimiento. También ajustaremos los parámetros de regularización mediante búsqueda en grilla (GridSearch) para encontrar el mejor modelo en cada caso."
      ],
      "metadata": {
        "id": "AjN2oL_To1ZD"
      }
    },
    {
      "cell_type": "markdown",
      "source": [
        "### Preparación de Datos\n",
        "\n",
        "Antes de entrenar los modelos, prepararemos los conjuntos de características y objetivo. Utilizaremos las primeras 6 componentes principales como características y la columna **'score'** como variable objetivo."
      ],
      "metadata": {
        "id": "lGPyEiRQqoCf"
      }
    },
    {
      "cell_type": "code",
      "source": [
        "from sklearn.model_selection import train_test_split\n",
        "\n",
        "# Seleccionar las primeras 4 componentes principales\n",
        "num_components = 4\n",
        "X = principal_components[:, :num_components]\n",
        "\n",
        "# Variable objetivo\n",
        "y = data['score']\n",
        "\n",
        "# Dividir los datos en conjuntos de entrenamiento y prueba\n",
        "X_train, X_test, y_train, y_test = train_test_split(X, y, test_size=0.2, random_state=42)\n",
        "\n",
        "# Mostrar las dimensiones de los conjuntos de datos\n",
        "(X_train.shape, X_test.shape, y_train.shape, y_test.shape)"
      ],
      "metadata": {
        "colab": {
          "base_uri": "https://localhost:8080/"
        },
        "id": "-VX_9YA2rfus",
        "outputId": "9320d283-88f1-4ffa-a118-2a54226d92b7"
      },
      "execution_count": 18,
      "outputs": [
        {
          "output_type": "execute_result",
          "data": {
            "text/plain": [
              "((124, 4), (31, 4), (124,), (31,))"
            ]
          },
          "metadata": {},
          "execution_count": 18
        }
      ]
    },
    {
      "cell_type": "markdown",
      "source": [
        "Hemos dividido el conjunto de datos en un conjunto de entrenamiento con 124 observaciones y un conjunto de prueba con 31 observaciones, utilizando las primeras 4 componentes principales como características."
      ],
      "metadata": {
        "id": "0bZOrMT_rvmX"
      }
    },
    {
      "cell_type": "markdown",
      "source": [
        "### Entrenamiento de Modelos y Ajuste de Hiperparámetros\n",
        "Ahora, entrenaremos los modelos Lasso, Ridge y ElasticNet, y ajustaremos sus hiperparámetros utilizando búsqueda en grilla (GridSearchCV). Compararemos el rendimiento de estos modelos utilizando el error cuadrático medio (MSE) como métrica de evaluación."
      ],
      "metadata": {
        "id": "CVpdaLBvrT6f"
      }
    },
    {
      "cell_type": "code",
      "source": [
        "from sklearn.linear_model import Lasso, Ridge, ElasticNet\n",
        "from sklearn.model_selection import GridSearchCV\n",
        "from sklearn.metrics import mean_squared_error\n",
        "\n",
        "# Definir los modelos y los parámetros para la búsqueda en grilla\n",
        "models_params = {\n",
        "    'Lasso': {\n",
        "        'model': Lasso(),\n",
        "        'params': {\n",
        "            'alpha': [1e-5, 1e-4, 1e-3, 1e-2, 1e-1, 1, 10, 100]\n",
        "        }\n",
        "    },\n",
        "    'Ridge': {\n",
        "        'model': Ridge(),\n",
        "        'params': {\n",
        "            'alpha': [1e-5, 1e-4, 1e-3, 1e-2, 1e-1, 1, 10, 100]\n",
        "        }\n",
        "    },\n",
        "    'ElasticNet': {\n",
        "        'model': ElasticNet(),\n",
        "        'params': {\n",
        "            'alpha': [1e-5, 1e-4, 1e-3, 1e-2, 1e-1, 1, 10, 100],\n",
        "            'l1_ratio': [0.2, 0.4, 0.6, 0.8]\n",
        "        }\n",
        "    }\n",
        "}\n",
        "\n",
        "# Realizar la búsqueda en grilla para cada modelo\n",
        "best_models = {}\n",
        "for name, mp in models_params.items():\n",
        "    grid_clf = GridSearchCV(mp['model'], mp['params'], cv=5, scoring='neg_mean_squared_error', n_jobs=-1)\n",
        "    grid_clf.fit(X_train, y_train)\n",
        "    best_models[name] = grid_clf.best_estimator_\n",
        "\n",
        "# Evaluar los modelos en el conjunto de prueba\n",
        "model_results = {}\n",
        "for name, model in best_models.items():\n",
        "    y_pred = model.predict(X_test)\n",
        "    mse = mean_squared_error(y_test, y_pred)\n",
        "    model_results[name] = mse\n",
        "\n",
        "# Mostrar los resultados\n",
        "model_results"
      ],
      "metadata": {
        "colab": {
          "base_uri": "https://localhost:8080/"
        },
        "id": "E3hxuVpkr1yK",
        "outputId": "22baa617-bca7-41ca-fabf-40ba4be41d03"
      },
      "execution_count": 19,
      "outputs": [
        {
          "output_type": "execute_result",
          "data": {
            "text/plain": [
              "{'Lasso': 0.011592724903608,\n",
              " 'Ridge': 0.011591160518786543,\n",
              " 'ElasticNet': 0.011592361531046296}"
            ]
          },
          "metadata": {},
          "execution_count": 19
        }
      ]
    },
    {
      "cell_type": "markdown",
      "source": [
        "Hemos entrenado y evaluado los modelos Lasso, Ridge y ElasticNet utilizando las primeras **4 componentes** principales para predecir la puntuación de felicidad. Aquí están los resultados del error cuadrático medio (MSE) para cada modelo en el conjunto de prueba:\n",
        "\n",
        "* Lasso: $MSE = 0.01159$\n",
        "* Ridge: $MSE = 0.01159$\n",
        "* ElasticNet: $MSE = 0.01159$\n",
        "\n",
        "Los tres modelos presentan un rendimiento muy similar, con errores cuadráticos medios muy cercanos entre sí. Esto sugiere que la regularización L1 (Lasso), L2 (Ridge) o la combinación de ambas (ElasticNet) no marcan una diferencia significativa en este caso específico, y todos son capaces de predecir la puntuación de felicidad con un error muy bajo."
      ],
      "metadata": {
        "id": "6bfpLsnOr_-r"
      }
    },
    {
      "cell_type": "markdown",
      "source": [
        "## Explicación de Resultados\n",
        "\n",
        "Los resultados indican que, utilizando las primeras **4 componentes** principales como características, los modelos lineales regularizados son capaces de predecir con precisión la puntuación de felicidad de los países. La elección de Lasso, Ridge o ElasticNet no parece tener un impacto significativo en el rendimiento del modelo para este conjunto de datos, ya que todos presentan errores cuadráticos medios similares.  \n",
        "\n",
        "La reducción de dimensionalidad mediante PCA ha permitido condensar la información de las características originales en un número reducido de componentes principales, manteniendo la capacidad de predecir la variable objetivo."
      ],
      "metadata": {
        "id": "84FztSgTo2jt"
      }
    },
    {
      "cell_type": "markdown",
      "source": [
        "## Regresiones Robustas\n",
        "Las regresiones robustas son técnicas diseñadas para manejar conjuntos de datos que contienen outliers o ruido, los cuales pueden afectar negativamente el rendimiento de un modelo de regresión lineal ordinario. Scikit-learn proporciona varios métodos de regresión robusta, entre ellos RANSAC (RANdom SAmple Consensus) y el Regresor Huber."
      ],
      "metadata": {
        "id": "k7wUwz7JxkBZ"
      }
    },
    {
      "cell_type": "markdown",
      "source": [
        "### RANSAC (RANdom SAmple Consensus)\n",
        "RANSAC es un algoritmo iterativo diseñado para estimar parámetros de un modelo matemático a partir de un conjunto de datos que contiene outliers. En cada iteración, RANSAC selecciona aleatoriamente un subconjunto de los datos como inliers y ajusta el modelo. Luego, clasifica todos los puntos de datos como inliers o outliers basándose en qué tan bien se ajustan al modelo ajustado. El modelo con el mayor número de inliers se considera el modelo final."
      ],
      "metadata": {
        "id": "Dg2DfggUxsqP"
      }
    },
    {
      "cell_type": "code",
      "source": [
        "from sklearn.linear_model import RANSACRegressor, HuberRegressor\n",
        "\n",
        "# Inicializar el modelo RANSAC\n",
        "ransac = RANSACRegressor(random_state=42)\n",
        "\n",
        "# Entrenar el modelo RANSAC utilizando las primeras 6 componentes principales\n",
        "ransac.fit(X_train, y_train)\n",
        "\n",
        "# Realizar predicciones en el conjunto de prueba\n",
        "ransac_predictions = ransac.predict(X_test)\n",
        "\n",
        "# Calcular el error cuadrático medio para el modelo RANSAC\n",
        "ransac_mse = mean_squared_error(y_test, ransac_predictions)\n",
        "ransac_mse"
      ],
      "metadata": {
        "colab": {
          "base_uri": "https://localhost:8080/"
        },
        "id": "talWOmImyKK1",
        "outputId": "73de88cf-0462-40a1-c9d2-0894fcb0df58"
      },
      "execution_count": 20,
      "outputs": [
        {
          "output_type": "execute_result",
          "data": {
            "text/plain": [
              "0.011585499181292315"
            ]
          },
          "metadata": {},
          "execution_count": 20
        }
      ]
    },
    {
      "cell_type": "markdown",
      "source": [
        "El modelo RANSAC ha sido entrenado y evaluado, obteniendo un error cuadrático medio (MSE) de aproximadamente **$0.01158$** en el conjunto de prueba."
      ],
      "metadata": {
        "id": "sbZ2iws1yM4J"
      }
    },
    {
      "cell_type": "markdown",
      "source": [
        "### Huber Regressor\n",
        "El Regresor Huber es otro enfoque para la regresión robusta. A diferencia de la regresión cuadrática ordinaria, que minimiza la suma de los cuadrados de las diferencias entre los valores observados y predichos, el Regresor Huber minimiza la suma de una función de pérdida de Huber. La función de pérdida de Huber es cuadrática para errores pequeños y lineal para errores grandes, lo que la hace menos sensible a outliers que la pérdida cuadrática."
      ],
      "metadata": {
        "id": "g-eOua-Gx0H6"
      }
    },
    {
      "cell_type": "code",
      "source": [
        "# Inicializar el modelo Huber Regressor\n",
        "huber = HuberRegressor(max_iter=1000)\n",
        "\n",
        "# Entrenar el modelo Huber Regressor utilizando las primeras 6 componentes principales\n",
        "huber.fit(X_train, y_train)\n",
        "\n",
        "# Realizar predicciones en el conjunto de prueba\n",
        "huber_predictions = huber.predict(X_test)\n",
        "\n",
        "# Calcular el error cuadrático medio para el modelo Huber Regressor\n",
        "huber_mse = mean_squared_error(y_test, huber_predictions)\n",
        "huber_mse"
      ],
      "metadata": {
        "colab": {
          "base_uri": "https://localhost:8080/"
        },
        "id": "NErhKeM_4Bgo",
        "outputId": "ed046494-624b-4145-f00c-16df781d1da7"
      },
      "execution_count": 21,
      "outputs": [
        {
          "output_type": "execute_result",
          "data": {
            "text/plain": [
              "0.010875004134042741"
            ]
          },
          "metadata": {},
          "execution_count": 21
        }
      ]
    },
    {
      "cell_type": "markdown",
      "source": [
        "El Regresor Huber ha sido entrenado y evaluado, obteniendo un error cuadrático medio (MSE) de aproximadamente $0.01088$ en el conjunto de prueba.  \n",
        "Para resumir, aquí están los errores cuadráticos medios de todos los modelos que hemos entrenado y evaluado:  \n",
        "\n",
        "**Lasso**: $MSE=0.01159$  \n",
        "**Ridge**: $MSE=0.01159$  \n",
        "**ElasticNet**: $MSE=0.01159$  \n",
        "**RANSAC**: $MSE=0.01158$  \n",
        "**Huber**: $MSE=0.01088$  \n",
        "\n",
        "Podemos observar que todos los modelos tienen un rendimiento similar, con errores cuadráticos medios muy cercanos entre sí. El Regresor Huber tiene el MSE más bajo de todos, aunque la diferencia es muy pequeña."
      ],
      "metadata": {
        "id": "mYLqCbdo4WMk"
      }
    },
    {
      "cell_type": "markdown",
      "source": [
        "## Métodos de Ensamble\n",
        "Los métodos de ensamble son técnicas en aprendizaje automático que combinan las predicciones de múltiples modelos individuales para crear un modelo compuesto más fuerte y preciso. Los ensambles ayudan a mejorar la generalización del modelo, reducir la varianza y el sobreajuste."
      ],
      "metadata": {
        "id": "AMoO5kDb52Go"
      }
    },
    {
      "cell_type": "markdown",
      "source": [
        "### Bagging\n",
        "* Se generan múltiples conjuntos de entrenamiento mediante muestreo con reemplazo (bootstrap).\n",
        "* Se entrena un modelo independiente para cada conjunto de entrenamiento.\n",
        "* Las predicciones de los modelos individuales se agregan (promedian para regresión, votan para clasificación) para obtener la predicción final.\n",
        "\n",
        "Comencemos implementando y evaluando un modelo Random Forest. Este modelo construye un conjunto de árboles de decisión entrenados con diferentes subconjuntos del conjunto de datos y agrega sus predicciones."
      ],
      "metadata": {
        "id": "8qUWiOFF57FA"
      }
    },
    {
      "cell_type": "code",
      "source": [
        "from sklearn.ensemble import RandomForestRegressor\n",
        "\n",
        "# Inicializar el modelo Random Forest\n",
        "random_forest = RandomForestRegressor(random_state=42, n_jobs=-1)\n",
        "\n",
        "# Entrenar el modelo Random Forest utilizando las primeras 4 componentes principales\n",
        "random_forest.fit(X_train, y_train)\n",
        "\n",
        "# Realizar predicciones en el conjunto de prueba\n",
        "rf_predictions = random_forest.predict(X_test)\n",
        "\n",
        "# Calcular el error cuadrático medio para el modelo Random Forest\n",
        "rf_mse = mean_squared_error(y_test, rf_predictions)\n",
        "rf_mse"
      ],
      "metadata": {
        "colab": {
          "base_uri": "https://localhost:8080/"
        },
        "id": "soUCWfybS0AW",
        "outputId": "f0c79851-2f34-4e62-faf5-a7104d3dfa0b"
      },
      "execution_count": 22,
      "outputs": [
        {
          "output_type": "execute_result",
          "data": {
            "text/plain": [
              "0.06112983248762258"
            ]
          },
          "metadata": {},
          "execution_count": 22
        }
      ]
    },
    {
      "cell_type": "markdown",
      "source": [
        "El modelo Random Forest ha sido entrenado y evaluado, obteniendo un error cuadrático medio (MSE) de aproximadamente $0.0611$ en el conjunto de prueba."
      ],
      "metadata": {
        "id": "t8fFA8QuTDpC"
      }
    },
    {
      "cell_type": "markdown",
      "source": [
        "### Boosting\n",
        "* Los modelos se construyen de forma secuencial, donde cada modelo trata de corregir los errores del modelo anterior.\n",
        "* Los modelos débiles (que son solo un poco mejores que adivinar al azar) se combinan para formar un modelo fuerte.\n",
        "* Cada modelo asigna pesos a las observaciones en función de si fueron clasificadas correctamente o no por el modelo anterior.\n",
        "\n",
        "Ahora, procederemos a implementar y evaluar un modelo Gradient Boosting. Este modelo construye árboles de decisión de forma secuencial, donde cada árbol trata de corregir los errores del árbol anterior."
      ],
      "metadata": {
        "id": "km5-JDdp5603"
      }
    },
    {
      "cell_type": "code",
      "source": [
        "from sklearn.ensemble import GradientBoostingRegressor\n",
        "\n",
        "# Inicializar el modelo Gradient Boosting\n",
        "gradient_boosting = GradientBoostingRegressor(random_state=42)\n",
        "\n",
        "# Entrenar el modelo Gradient Boosting utilizando las primeras 6 componentes principales\n",
        "gradient_boosting.fit(X_train, y_train)\n",
        "\n",
        "# Realizar predicciones en el conjunto de prueba\n",
        "gb_predictions = gradient_boosting.predict(X_test)\n",
        "\n",
        "# Calcular el error cuadrático medio para el modelo Gradient Boosting\n",
        "gb_mse = mean_squared_error(y_test, gb_predictions)\n",
        "gb_mse"
      ],
      "metadata": {
        "colab": {
          "base_uri": "https://localhost:8080/"
        },
        "id": "xxgbiXpITOvZ",
        "outputId": "341cd907-d267-463f-9621-886f936c0eb8"
      },
      "execution_count": 23,
      "outputs": [
        {
          "output_type": "execute_result",
          "data": {
            "text/plain": [
              "0.05442661059687234"
            ]
          },
          "metadata": {},
          "execution_count": 23
        }
      ]
    },
    {
      "cell_type": "markdown",
      "source": [
        "El modelo Gradient Boosting ha sido entrenado y evaluado, obteniendo un error cuadrático medio (MSE) de aproximadamente 0.0544 en el conjunto de prueba.\n",
        "\n",
        "Para resumir, aquí están los errores cuadráticos medios de los modelos de ensamble que hemos entrenado y evaluado:  \n",
        "\n",
        "* Random Forest (Bagging): $MSE=0.0611$\n",
        "* Gradient Boosting: $MSE=0.0544$\n",
        "\n",
        "Podemos observar que ambos modelos de ensamble presentan un rendimiento superior a los modelos lineales individuales y a los modelos robustos que evaluamos anteriormente. El modelo Gradient Boosting, en particular, logra el MSE más bajo entre todos los modelos evaluados.  \n",
        "\n",
        "Si tienes más preguntas, necesitas más detalles o quieres que realice algún análisis adicional, no dudes en decírmelo."
      ],
      "metadata": {
        "id": "z_2o0-syTXmr"
      }
    },
    {
      "cell_type": "markdown",
      "source": [
        "## Comparación de los valores de MSE obtenidos por cada modelo"
      ],
      "metadata": {
        "id": "4ADf-0ayUmpC"
      }
    },
    {
      "cell_type": "code",
      "source": [
        "# Recopilar los MSE de todos los modelos evaluados\n",
        "mse_values = {\n",
        "    'Lasso': model_results['Lasso'],\n",
        "    'Ridge': model_results['Ridge'],\n",
        "    'ElasticNet': model_results['ElasticNet'],\n",
        "    'RANSAC': ransac_mse,\n",
        "    'Huber Regressor': huber_mse,\n",
        "    'Random Forest (Bagging)': rf_mse,\n",
        "    'Gradient Boosting': gb_mse\n",
        "}\n",
        "\n",
        "# Encontrar el modelo con el menor MSE\n",
        "best_model_name = min(mse_values, key=mse_values.get)\n",
        "best_model_mse = mse_values[best_model_name]\n",
        "\n",
        "(best_model_name, best_model_mse)"
      ],
      "metadata": {
        "colab": {
          "base_uri": "https://localhost:8080/"
        },
        "id": "RlN_v0f0U01u",
        "outputId": "74158651-d550-45f2-8bf5-d387595360b3"
      },
      "execution_count": 24,
      "outputs": [
        {
          "output_type": "execute_result",
          "data": {
            "text/plain": [
              "('Huber Regressor', 0.010875004134042741)"
            ]
          },
          "metadata": {},
          "execution_count": 24
        }
      ]
    },
    {
      "cell_type": "markdown",
      "source": [
        "## Predicciones para el conjunto de datos usando Huber Regressor"
      ],
      "metadata": {
        "id": "hlqn5jbhWQda"
      }
    },
    {
      "cell_type": "code",
      "source": [
        "# Realizar predicciones sobre todo el conjunto de datos utilizando el modelo Gradient Boosting\n",
        "all_predictions_h = huber.predict(X)\n",
        "\n",
        "# Crear un DataFrame para mostrar los resultados\n",
        "results_df = pd.DataFrame({\n",
        "    'Páis': data['country'],\n",
        "    'Puntaje actual': data['score'],\n",
        "    'Puntaje predicho': all_predictions_h\n",
        "})\n",
        "\n",
        "# Mostrar las primeras filas de los resultados\n",
        "results_df"
      ],
      "metadata": {
        "colab": {
          "base_uri": "https://localhost:8080/",
          "height": 424
        },
        "id": "vA1x8qkhWZ_t",
        "outputId": "ed767cbe-4b59-4d63-d4ad-c85bb26d96f7"
      },
      "execution_count": 29,
      "outputs": [
        {
          "output_type": "execute_result",
          "data": {
            "text/plain": [
              "                         Páis  Puntaje actual  Puntaje predicho\n",
              "0                      Norway           7.537          7.472111\n",
              "1                     Denmark           7.522          7.456912\n",
              "2                     Iceland           7.504          7.527281\n",
              "3                 Switzerland           7.494          7.456141\n",
              "4                     Finland           7.469          7.457907\n",
              "..                        ...             ...               ...\n",
              "150                    Rwanda           3.471          3.618454\n",
              "151                     Syria           3.462          3.087318\n",
              "152                  Tanzania           3.349          3.472687\n",
              "153                   Burundi           2.905          2.770366\n",
              "154  Central African Republic           2.693          2.547695\n",
              "\n",
              "[155 rows x 3 columns]"
            ],
            "text/html": [
              "\n",
              "  <div id=\"df-173daf7c-7fc3-4709-9cb8-0dcf8a746e2e\" class=\"colab-df-container\">\n",
              "    <div>\n",
              "<style scoped>\n",
              "    .dataframe tbody tr th:only-of-type {\n",
              "        vertical-align: middle;\n",
              "    }\n",
              "\n",
              "    .dataframe tbody tr th {\n",
              "        vertical-align: top;\n",
              "    }\n",
              "\n",
              "    .dataframe thead th {\n",
              "        text-align: right;\n",
              "    }\n",
              "</style>\n",
              "<table border=\"1\" class=\"dataframe\">\n",
              "  <thead>\n",
              "    <tr style=\"text-align: right;\">\n",
              "      <th></th>\n",
              "      <th>Páis</th>\n",
              "      <th>Puntaje actual</th>\n",
              "      <th>Puntaje predicho</th>\n",
              "    </tr>\n",
              "  </thead>\n",
              "  <tbody>\n",
              "    <tr>\n",
              "      <th>0</th>\n",
              "      <td>Norway</td>\n",
              "      <td>7.537</td>\n",
              "      <td>7.472111</td>\n",
              "    </tr>\n",
              "    <tr>\n",
              "      <th>1</th>\n",
              "      <td>Denmark</td>\n",
              "      <td>7.522</td>\n",
              "      <td>7.456912</td>\n",
              "    </tr>\n",
              "    <tr>\n",
              "      <th>2</th>\n",
              "      <td>Iceland</td>\n",
              "      <td>7.504</td>\n",
              "      <td>7.527281</td>\n",
              "    </tr>\n",
              "    <tr>\n",
              "      <th>3</th>\n",
              "      <td>Switzerland</td>\n",
              "      <td>7.494</td>\n",
              "      <td>7.456141</td>\n",
              "    </tr>\n",
              "    <tr>\n",
              "      <th>4</th>\n",
              "      <td>Finland</td>\n",
              "      <td>7.469</td>\n",
              "      <td>7.457907</td>\n",
              "    </tr>\n",
              "    <tr>\n",
              "      <th>...</th>\n",
              "      <td>...</td>\n",
              "      <td>...</td>\n",
              "      <td>...</td>\n",
              "    </tr>\n",
              "    <tr>\n",
              "      <th>150</th>\n",
              "      <td>Rwanda</td>\n",
              "      <td>3.471</td>\n",
              "      <td>3.618454</td>\n",
              "    </tr>\n",
              "    <tr>\n",
              "      <th>151</th>\n",
              "      <td>Syria</td>\n",
              "      <td>3.462</td>\n",
              "      <td>3.087318</td>\n",
              "    </tr>\n",
              "    <tr>\n",
              "      <th>152</th>\n",
              "      <td>Tanzania</td>\n",
              "      <td>3.349</td>\n",
              "      <td>3.472687</td>\n",
              "    </tr>\n",
              "    <tr>\n",
              "      <th>153</th>\n",
              "      <td>Burundi</td>\n",
              "      <td>2.905</td>\n",
              "      <td>2.770366</td>\n",
              "    </tr>\n",
              "    <tr>\n",
              "      <th>154</th>\n",
              "      <td>Central African Republic</td>\n",
              "      <td>2.693</td>\n",
              "      <td>2.547695</td>\n",
              "    </tr>\n",
              "  </tbody>\n",
              "</table>\n",
              "<p>155 rows × 3 columns</p>\n",
              "</div>\n",
              "    <div class=\"colab-df-buttons\">\n",
              "\n",
              "  <div class=\"colab-df-container\">\n",
              "    <button class=\"colab-df-convert\" onclick=\"convertToInteractive('df-173daf7c-7fc3-4709-9cb8-0dcf8a746e2e')\"\n",
              "            title=\"Convert this dataframe to an interactive table.\"\n",
              "            style=\"display:none;\">\n",
              "\n",
              "  <svg xmlns=\"http://www.w3.org/2000/svg\" height=\"24px\" viewBox=\"0 -960 960 960\">\n",
              "    <path d=\"M120-120v-720h720v720H120Zm60-500h600v-160H180v160Zm220 220h160v-160H400v160Zm0 220h160v-160H400v160ZM180-400h160v-160H180v160Zm440 0h160v-160H620v160ZM180-180h160v-160H180v160Zm440 0h160v-160H620v160Z\"/>\n",
              "  </svg>\n",
              "    </button>\n",
              "\n",
              "  <style>\n",
              "    .colab-df-container {\n",
              "      display:flex;\n",
              "      gap: 12px;\n",
              "    }\n",
              "\n",
              "    .colab-df-convert {\n",
              "      background-color: #E8F0FE;\n",
              "      border: none;\n",
              "      border-radius: 50%;\n",
              "      cursor: pointer;\n",
              "      display: none;\n",
              "      fill: #1967D2;\n",
              "      height: 32px;\n",
              "      padding: 0 0 0 0;\n",
              "      width: 32px;\n",
              "    }\n",
              "\n",
              "    .colab-df-convert:hover {\n",
              "      background-color: #E2EBFA;\n",
              "      box-shadow: 0px 1px 2px rgba(60, 64, 67, 0.3), 0px 1px 3px 1px rgba(60, 64, 67, 0.15);\n",
              "      fill: #174EA6;\n",
              "    }\n",
              "\n",
              "    .colab-df-buttons div {\n",
              "      margin-bottom: 4px;\n",
              "    }\n",
              "\n",
              "    [theme=dark] .colab-df-convert {\n",
              "      background-color: #3B4455;\n",
              "      fill: #D2E3FC;\n",
              "    }\n",
              "\n",
              "    [theme=dark] .colab-df-convert:hover {\n",
              "      background-color: #434B5C;\n",
              "      box-shadow: 0px 1px 3px 1px rgba(0, 0, 0, 0.15);\n",
              "      filter: drop-shadow(0px 1px 2px rgba(0, 0, 0, 0.3));\n",
              "      fill: #FFFFFF;\n",
              "    }\n",
              "  </style>\n",
              "\n",
              "    <script>\n",
              "      const buttonEl =\n",
              "        document.querySelector('#df-173daf7c-7fc3-4709-9cb8-0dcf8a746e2e button.colab-df-convert');\n",
              "      buttonEl.style.display =\n",
              "        google.colab.kernel.accessAllowed ? 'block' : 'none';\n",
              "\n",
              "      async function convertToInteractive(key) {\n",
              "        const element = document.querySelector('#df-173daf7c-7fc3-4709-9cb8-0dcf8a746e2e');\n",
              "        const dataTable =\n",
              "          await google.colab.kernel.invokeFunction('convertToInteractive',\n",
              "                                                    [key], {});\n",
              "        if (!dataTable) return;\n",
              "\n",
              "        const docLinkHtml = 'Like what you see? Visit the ' +\n",
              "          '<a target=\"_blank\" href=https://colab.research.google.com/notebooks/data_table.ipynb>data table notebook</a>'\n",
              "          + ' to learn more about interactive tables.';\n",
              "        element.innerHTML = '';\n",
              "        dataTable['output_type'] = 'display_data';\n",
              "        await google.colab.output.renderOutput(dataTable, element);\n",
              "        const docLink = document.createElement('div');\n",
              "        docLink.innerHTML = docLinkHtml;\n",
              "        element.appendChild(docLink);\n",
              "      }\n",
              "    </script>\n",
              "  </div>\n",
              "\n",
              "\n",
              "<div id=\"df-2327949c-93a5-484e-83ad-81712d57a516\">\n",
              "  <button class=\"colab-df-quickchart\" onclick=\"quickchart('df-2327949c-93a5-484e-83ad-81712d57a516')\"\n",
              "            title=\"Suggest charts.\"\n",
              "            style=\"display:none;\">\n",
              "\n",
              "<svg xmlns=\"http://www.w3.org/2000/svg\" height=\"24px\"viewBox=\"0 0 24 24\"\n",
              "     width=\"24px\">\n",
              "    <g>\n",
              "        <path d=\"M19 3H5c-1.1 0-2 .9-2 2v14c0 1.1.9 2 2 2h14c1.1 0 2-.9 2-2V5c0-1.1-.9-2-2-2zM9 17H7v-7h2v7zm4 0h-2V7h2v10zm4 0h-2v-4h2v4z\"/>\n",
              "    </g>\n",
              "</svg>\n",
              "  </button>\n",
              "\n",
              "<style>\n",
              "  .colab-df-quickchart {\n",
              "      --bg-color: #E8F0FE;\n",
              "      --fill-color: #1967D2;\n",
              "      --hover-bg-color: #E2EBFA;\n",
              "      --hover-fill-color: #174EA6;\n",
              "      --disabled-fill-color: #AAA;\n",
              "      --disabled-bg-color: #DDD;\n",
              "  }\n",
              "\n",
              "  [theme=dark] .colab-df-quickchart {\n",
              "      --bg-color: #3B4455;\n",
              "      --fill-color: #D2E3FC;\n",
              "      --hover-bg-color: #434B5C;\n",
              "      --hover-fill-color: #FFFFFF;\n",
              "      --disabled-bg-color: #3B4455;\n",
              "      --disabled-fill-color: #666;\n",
              "  }\n",
              "\n",
              "  .colab-df-quickchart {\n",
              "    background-color: var(--bg-color);\n",
              "    border: none;\n",
              "    border-radius: 50%;\n",
              "    cursor: pointer;\n",
              "    display: none;\n",
              "    fill: var(--fill-color);\n",
              "    height: 32px;\n",
              "    padding: 0;\n",
              "    width: 32px;\n",
              "  }\n",
              "\n",
              "  .colab-df-quickchart:hover {\n",
              "    background-color: var(--hover-bg-color);\n",
              "    box-shadow: 0 1px 2px rgba(60, 64, 67, 0.3), 0 1px 3px 1px rgba(60, 64, 67, 0.15);\n",
              "    fill: var(--button-hover-fill-color);\n",
              "  }\n",
              "\n",
              "  .colab-df-quickchart-complete:disabled,\n",
              "  .colab-df-quickchart-complete:disabled:hover {\n",
              "    background-color: var(--disabled-bg-color);\n",
              "    fill: var(--disabled-fill-color);\n",
              "    box-shadow: none;\n",
              "  }\n",
              "\n",
              "  .colab-df-spinner {\n",
              "    border: 2px solid var(--fill-color);\n",
              "    border-color: transparent;\n",
              "    border-bottom-color: var(--fill-color);\n",
              "    animation:\n",
              "      spin 1s steps(1) infinite;\n",
              "  }\n",
              "\n",
              "  @keyframes spin {\n",
              "    0% {\n",
              "      border-color: transparent;\n",
              "      border-bottom-color: var(--fill-color);\n",
              "      border-left-color: var(--fill-color);\n",
              "    }\n",
              "    20% {\n",
              "      border-color: transparent;\n",
              "      border-left-color: var(--fill-color);\n",
              "      border-top-color: var(--fill-color);\n",
              "    }\n",
              "    30% {\n",
              "      border-color: transparent;\n",
              "      border-left-color: var(--fill-color);\n",
              "      border-top-color: var(--fill-color);\n",
              "      border-right-color: var(--fill-color);\n",
              "    }\n",
              "    40% {\n",
              "      border-color: transparent;\n",
              "      border-right-color: var(--fill-color);\n",
              "      border-top-color: var(--fill-color);\n",
              "    }\n",
              "    60% {\n",
              "      border-color: transparent;\n",
              "      border-right-color: var(--fill-color);\n",
              "    }\n",
              "    80% {\n",
              "      border-color: transparent;\n",
              "      border-right-color: var(--fill-color);\n",
              "      border-bottom-color: var(--fill-color);\n",
              "    }\n",
              "    90% {\n",
              "      border-color: transparent;\n",
              "      border-bottom-color: var(--fill-color);\n",
              "    }\n",
              "  }\n",
              "</style>\n",
              "\n",
              "  <script>\n",
              "    async function quickchart(key) {\n",
              "      const quickchartButtonEl =\n",
              "        document.querySelector('#' + key + ' button');\n",
              "      quickchartButtonEl.disabled = true;  // To prevent multiple clicks.\n",
              "      quickchartButtonEl.classList.add('colab-df-spinner');\n",
              "      try {\n",
              "        const charts = await google.colab.kernel.invokeFunction(\n",
              "            'suggestCharts', [key], {});\n",
              "      } catch (error) {\n",
              "        console.error('Error during call to suggestCharts:', error);\n",
              "      }\n",
              "      quickchartButtonEl.classList.remove('colab-df-spinner');\n",
              "      quickchartButtonEl.classList.add('colab-df-quickchart-complete');\n",
              "    }\n",
              "    (() => {\n",
              "      let quickchartButtonEl =\n",
              "        document.querySelector('#df-2327949c-93a5-484e-83ad-81712d57a516 button');\n",
              "      quickchartButtonEl.style.display =\n",
              "        google.colab.kernel.accessAllowed ? 'block' : 'none';\n",
              "    })();\n",
              "  </script>\n",
              "</div>\n",
              "    </div>\n",
              "  </div>\n"
            ]
          },
          "metadata": {},
          "execution_count": 29
        }
      ]
    },
    {
      "cell_type": "markdown",
      "source": [
        "## Generando nuevos datos\n",
        "Vamos a generar algunos datos sintéticos que simulen nuevas observaciones del conjunto de datos original. Para hacer esto, utilizaré la media y la desviación estándar de las características originales para generar valores aleatorios que sigan una distribución similar.\n",
        "\n",
        "Vamos a generar 200 datos sintéticos y luego los utilizaremos para realizar predicciones con los modelos entrenados."
      ],
      "metadata": {
        "id": "QKqp5ZCMxYZT"
      }
    },
    {
      "cell_type": "code",
      "source": [
        "np.random.seed(42)\n",
        "\n",
        "# Número de observaciones sintéticas a generar\n",
        "num_samples = 200\n",
        "\n",
        "# Generar un nuevo DataFrame para almacenar los datos sintéticos\n",
        "synthetic_features = pd.DataFrame()\n",
        "\n",
        "# Generar datos sintéticos basados en la media y desviación estándar de las características originales\n",
        "for column in features.columns:\n",
        "    mean = features[column].mean()\n",
        "    std = features[column].std()\n",
        "    synthetic_features[column] = np.random.normal(loc=mean, scale=std, size=num_samples)\n",
        "\n",
        "# Mostrar las primeras 5 filas de los datos sintéticos generados\n",
        "synthetic_features.head()"
      ],
      "metadata": {
        "colab": {
          "base_uri": "https://localhost:8080/",
          "height": 206
        },
        "id": "J1kvomQvcayT",
        "outputId": "6d035a5e-f528-48ad-8ab0-3f3cc214031e"
      },
      "execution_count": 32,
      "outputs": [
        {
          "output_type": "execute_result",
          "data": {
            "text/plain": [
              "        gdp    family    lifexp   freedom  generosity  corruption  dystopia\n",
              "0  1.193732  1.291677  0.173346  0.522332    0.373346    0.265380  1.912854\n",
              "1  0.926538  1.349990  0.409245  0.270464    0.177331    0.217119  1.635523\n",
              "2  1.257261  1.500018  0.552584  0.539225    0.259839    0.129182  1.911390\n",
              "3  1.625598  1.491616  0.562479  0.612128    0.184578    0.057352  2.121902\n",
              "4  0.886188  0.793144  0.444643  0.470800    0.188322    0.194102  1.874669"
            ],
            "text/html": [
              "\n",
              "  <div id=\"df-4209255f-236b-4863-8aef-5252b4b1ccd7\" class=\"colab-df-container\">\n",
              "    <div>\n",
              "<style scoped>\n",
              "    .dataframe tbody tr th:only-of-type {\n",
              "        vertical-align: middle;\n",
              "    }\n",
              "\n",
              "    .dataframe tbody tr th {\n",
              "        vertical-align: top;\n",
              "    }\n",
              "\n",
              "    .dataframe thead th {\n",
              "        text-align: right;\n",
              "    }\n",
              "</style>\n",
              "<table border=\"1\" class=\"dataframe\">\n",
              "  <thead>\n",
              "    <tr style=\"text-align: right;\">\n",
              "      <th></th>\n",
              "      <th>gdp</th>\n",
              "      <th>family</th>\n",
              "      <th>lifexp</th>\n",
              "      <th>freedom</th>\n",
              "      <th>generosity</th>\n",
              "      <th>corruption</th>\n",
              "      <th>dystopia</th>\n",
              "    </tr>\n",
              "  </thead>\n",
              "  <tbody>\n",
              "    <tr>\n",
              "      <th>0</th>\n",
              "      <td>1.193732</td>\n",
              "      <td>1.291677</td>\n",
              "      <td>0.173346</td>\n",
              "      <td>0.522332</td>\n",
              "      <td>0.373346</td>\n",
              "      <td>0.265380</td>\n",
              "      <td>1.912854</td>\n",
              "    </tr>\n",
              "    <tr>\n",
              "      <th>1</th>\n",
              "      <td>0.926538</td>\n",
              "      <td>1.349990</td>\n",
              "      <td>0.409245</td>\n",
              "      <td>0.270464</td>\n",
              "      <td>0.177331</td>\n",
              "      <td>0.217119</td>\n",
              "      <td>1.635523</td>\n",
              "    </tr>\n",
              "    <tr>\n",
              "      <th>2</th>\n",
              "      <td>1.257261</td>\n",
              "      <td>1.500018</td>\n",
              "      <td>0.552584</td>\n",
              "      <td>0.539225</td>\n",
              "      <td>0.259839</td>\n",
              "      <td>0.129182</td>\n",
              "      <td>1.911390</td>\n",
              "    </tr>\n",
              "    <tr>\n",
              "      <th>3</th>\n",
              "      <td>1.625598</td>\n",
              "      <td>1.491616</td>\n",
              "      <td>0.562479</td>\n",
              "      <td>0.612128</td>\n",
              "      <td>0.184578</td>\n",
              "      <td>0.057352</td>\n",
              "      <td>2.121902</td>\n",
              "    </tr>\n",
              "    <tr>\n",
              "      <th>4</th>\n",
              "      <td>0.886188</td>\n",
              "      <td>0.793144</td>\n",
              "      <td>0.444643</td>\n",
              "      <td>0.470800</td>\n",
              "      <td>0.188322</td>\n",
              "      <td>0.194102</td>\n",
              "      <td>1.874669</td>\n",
              "    </tr>\n",
              "  </tbody>\n",
              "</table>\n",
              "</div>\n",
              "    <div class=\"colab-df-buttons\">\n",
              "\n",
              "  <div class=\"colab-df-container\">\n",
              "    <button class=\"colab-df-convert\" onclick=\"convertToInteractive('df-4209255f-236b-4863-8aef-5252b4b1ccd7')\"\n",
              "            title=\"Convert this dataframe to an interactive table.\"\n",
              "            style=\"display:none;\">\n",
              "\n",
              "  <svg xmlns=\"http://www.w3.org/2000/svg\" height=\"24px\" viewBox=\"0 -960 960 960\">\n",
              "    <path d=\"M120-120v-720h720v720H120Zm60-500h600v-160H180v160Zm220 220h160v-160H400v160Zm0 220h160v-160H400v160ZM180-400h160v-160H180v160Zm440 0h160v-160H620v160ZM180-180h160v-160H180v160Zm440 0h160v-160H620v160Z\"/>\n",
              "  </svg>\n",
              "    </button>\n",
              "\n",
              "  <style>\n",
              "    .colab-df-container {\n",
              "      display:flex;\n",
              "      gap: 12px;\n",
              "    }\n",
              "\n",
              "    .colab-df-convert {\n",
              "      background-color: #E8F0FE;\n",
              "      border: none;\n",
              "      border-radius: 50%;\n",
              "      cursor: pointer;\n",
              "      display: none;\n",
              "      fill: #1967D2;\n",
              "      height: 32px;\n",
              "      padding: 0 0 0 0;\n",
              "      width: 32px;\n",
              "    }\n",
              "\n",
              "    .colab-df-convert:hover {\n",
              "      background-color: #E2EBFA;\n",
              "      box-shadow: 0px 1px 2px rgba(60, 64, 67, 0.3), 0px 1px 3px 1px rgba(60, 64, 67, 0.15);\n",
              "      fill: #174EA6;\n",
              "    }\n",
              "\n",
              "    .colab-df-buttons div {\n",
              "      margin-bottom: 4px;\n",
              "    }\n",
              "\n",
              "    [theme=dark] .colab-df-convert {\n",
              "      background-color: #3B4455;\n",
              "      fill: #D2E3FC;\n",
              "    }\n",
              "\n",
              "    [theme=dark] .colab-df-convert:hover {\n",
              "      background-color: #434B5C;\n",
              "      box-shadow: 0px 1px 3px 1px rgba(0, 0, 0, 0.15);\n",
              "      filter: drop-shadow(0px 1px 2px rgba(0, 0, 0, 0.3));\n",
              "      fill: #FFFFFF;\n",
              "    }\n",
              "  </style>\n",
              "\n",
              "    <script>\n",
              "      const buttonEl =\n",
              "        document.querySelector('#df-4209255f-236b-4863-8aef-5252b4b1ccd7 button.colab-df-convert');\n",
              "      buttonEl.style.display =\n",
              "        google.colab.kernel.accessAllowed ? 'block' : 'none';\n",
              "\n",
              "      async function convertToInteractive(key) {\n",
              "        const element = document.querySelector('#df-4209255f-236b-4863-8aef-5252b4b1ccd7');\n",
              "        const dataTable =\n",
              "          await google.colab.kernel.invokeFunction('convertToInteractive',\n",
              "                                                    [key], {});\n",
              "        if (!dataTable) return;\n",
              "\n",
              "        const docLinkHtml = 'Like what you see? Visit the ' +\n",
              "          '<a target=\"_blank\" href=https://colab.research.google.com/notebooks/data_table.ipynb>data table notebook</a>'\n",
              "          + ' to learn more about interactive tables.';\n",
              "        element.innerHTML = '';\n",
              "        dataTable['output_type'] = 'display_data';\n",
              "        await google.colab.output.renderOutput(dataTable, element);\n",
              "        const docLink = document.createElement('div');\n",
              "        docLink.innerHTML = docLinkHtml;\n",
              "        element.appendChild(docLink);\n",
              "      }\n",
              "    </script>\n",
              "  </div>\n",
              "\n",
              "\n",
              "<div id=\"df-0d64b86b-a2fb-4864-91c9-a237ffdef43e\">\n",
              "  <button class=\"colab-df-quickchart\" onclick=\"quickchart('df-0d64b86b-a2fb-4864-91c9-a237ffdef43e')\"\n",
              "            title=\"Suggest charts.\"\n",
              "            style=\"display:none;\">\n",
              "\n",
              "<svg xmlns=\"http://www.w3.org/2000/svg\" height=\"24px\"viewBox=\"0 0 24 24\"\n",
              "     width=\"24px\">\n",
              "    <g>\n",
              "        <path d=\"M19 3H5c-1.1 0-2 .9-2 2v14c0 1.1.9 2 2 2h14c1.1 0 2-.9 2-2V5c0-1.1-.9-2-2-2zM9 17H7v-7h2v7zm4 0h-2V7h2v10zm4 0h-2v-4h2v4z\"/>\n",
              "    </g>\n",
              "</svg>\n",
              "  </button>\n",
              "\n",
              "<style>\n",
              "  .colab-df-quickchart {\n",
              "      --bg-color: #E8F0FE;\n",
              "      --fill-color: #1967D2;\n",
              "      --hover-bg-color: #E2EBFA;\n",
              "      --hover-fill-color: #174EA6;\n",
              "      --disabled-fill-color: #AAA;\n",
              "      --disabled-bg-color: #DDD;\n",
              "  }\n",
              "\n",
              "  [theme=dark] .colab-df-quickchart {\n",
              "      --bg-color: #3B4455;\n",
              "      --fill-color: #D2E3FC;\n",
              "      --hover-bg-color: #434B5C;\n",
              "      --hover-fill-color: #FFFFFF;\n",
              "      --disabled-bg-color: #3B4455;\n",
              "      --disabled-fill-color: #666;\n",
              "  }\n",
              "\n",
              "  .colab-df-quickchart {\n",
              "    background-color: var(--bg-color);\n",
              "    border: none;\n",
              "    border-radius: 50%;\n",
              "    cursor: pointer;\n",
              "    display: none;\n",
              "    fill: var(--fill-color);\n",
              "    height: 32px;\n",
              "    padding: 0;\n",
              "    width: 32px;\n",
              "  }\n",
              "\n",
              "  .colab-df-quickchart:hover {\n",
              "    background-color: var(--hover-bg-color);\n",
              "    box-shadow: 0 1px 2px rgba(60, 64, 67, 0.3), 0 1px 3px 1px rgba(60, 64, 67, 0.15);\n",
              "    fill: var(--button-hover-fill-color);\n",
              "  }\n",
              "\n",
              "  .colab-df-quickchart-complete:disabled,\n",
              "  .colab-df-quickchart-complete:disabled:hover {\n",
              "    background-color: var(--disabled-bg-color);\n",
              "    fill: var(--disabled-fill-color);\n",
              "    box-shadow: none;\n",
              "  }\n",
              "\n",
              "  .colab-df-spinner {\n",
              "    border: 2px solid var(--fill-color);\n",
              "    border-color: transparent;\n",
              "    border-bottom-color: var(--fill-color);\n",
              "    animation:\n",
              "      spin 1s steps(1) infinite;\n",
              "  }\n",
              "\n",
              "  @keyframes spin {\n",
              "    0% {\n",
              "      border-color: transparent;\n",
              "      border-bottom-color: var(--fill-color);\n",
              "      border-left-color: var(--fill-color);\n",
              "    }\n",
              "    20% {\n",
              "      border-color: transparent;\n",
              "      border-left-color: var(--fill-color);\n",
              "      border-top-color: var(--fill-color);\n",
              "    }\n",
              "    30% {\n",
              "      border-color: transparent;\n",
              "      border-left-color: var(--fill-color);\n",
              "      border-top-color: var(--fill-color);\n",
              "      border-right-color: var(--fill-color);\n",
              "    }\n",
              "    40% {\n",
              "      border-color: transparent;\n",
              "      border-right-color: var(--fill-color);\n",
              "      border-top-color: var(--fill-color);\n",
              "    }\n",
              "    60% {\n",
              "      border-color: transparent;\n",
              "      border-right-color: var(--fill-color);\n",
              "    }\n",
              "    80% {\n",
              "      border-color: transparent;\n",
              "      border-right-color: var(--fill-color);\n",
              "      border-bottom-color: var(--fill-color);\n",
              "    }\n",
              "    90% {\n",
              "      border-color: transparent;\n",
              "      border-bottom-color: var(--fill-color);\n",
              "    }\n",
              "  }\n",
              "</style>\n",
              "\n",
              "  <script>\n",
              "    async function quickchart(key) {\n",
              "      const quickchartButtonEl =\n",
              "        document.querySelector('#' + key + ' button');\n",
              "      quickchartButtonEl.disabled = true;  // To prevent multiple clicks.\n",
              "      quickchartButtonEl.classList.add('colab-df-spinner');\n",
              "      try {\n",
              "        const charts = await google.colab.kernel.invokeFunction(\n",
              "            'suggestCharts', [key], {});\n",
              "      } catch (error) {\n",
              "        console.error('Error during call to suggestCharts:', error);\n",
              "      }\n",
              "      quickchartButtonEl.classList.remove('colab-df-spinner');\n",
              "      quickchartButtonEl.classList.add('colab-df-quickchart-complete');\n",
              "    }\n",
              "    (() => {\n",
              "      let quickchartButtonEl =\n",
              "        document.querySelector('#df-0d64b86b-a2fb-4864-91c9-a237ffdef43e button');\n",
              "      quickchartButtonEl.style.display =\n",
              "        google.colab.kernel.accessAllowed ? 'block' : 'none';\n",
              "    })();\n",
              "  </script>\n",
              "</div>\n",
              "    </div>\n",
              "  </div>\n"
            ]
          },
          "metadata": {},
          "execution_count": 32
        }
      ]
    }
  ]
}