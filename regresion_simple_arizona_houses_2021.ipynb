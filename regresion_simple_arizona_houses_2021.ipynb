{
  "nbformat": 4,
  "nbformat_minor": 0,
  "metadata": {
    "colab": {
      "provenance": [],
      "mount_file_id": "1sTSg3J5acPY2oNHN95h23mMizKtSZtLo",
      "authorship_tag": "ABX9TyNfSybCgnELQHzs0Jw2SkRi",
      "include_colab_link": true
    },
    "kernelspec": {
      "name": "python3",
      "display_name": "Python 3"
    },
    "language_info": {
      "name": "python"
    }
  },
  "cells": [
    {
      "cell_type": "markdown",
      "metadata": {
        "id": "view-in-github",
        "colab_type": "text"
      },
      "source": [
        "<a href=\"https://colab.research.google.com/github/JuanRaul23/portafolio-ciencia-de-datos/blob/master/regresion_simple_arizona_houses_2021.ipynb\" target=\"_parent\"><img src=\"https://colab.research.google.com/assets/colab-badge.svg\" alt=\"Open In Colab\"/></a>"
      ]
    },
    {
      "cell_type": "markdown",
      "source": [
        "# Fuente de datos: **[Arizona Houses 2021](https://www.kaggle.com/datasets/antoniong203/arizona-houses-2021)**, Kaggle\n",
        "\n",
        "El conjunto de datos contiene casas de Arizona que se han listado anteriormente y algunas de sus características e información."
      ],
      "metadata": {
        "id": "-Kbe-G9we7gY"
      }
    },
    {
      "cell_type": "markdown",
      "source": [
        "# Paso 1: Cargar el conjunto de datos y explorarlo\n",
        "\n",
        "Vamos a empezar cargando y explorando el conjunto de datos."
      ],
      "metadata": {
        "id": "T2N1pQ0ae_21"
      }
    },
    {
      "cell_type": "code",
      "execution_count": null,
      "metadata": {
        "colab": {
          "base_uri": "https://localhost:8080/",
          "height": 206
        },
        "id": "TNueNXzgeztW",
        "outputId": "ad7fd6bc-f1fb-4c17-c472-71e1c587c940"
      },
      "outputs": [
        {
          "output_type": "execute_result",
          "data": {
            "text/plain": [
              "    Price                     address      Local_area zipcode  beds  baths  \\\n",
              "0  229900      11444 N 28th Dr APT 14         Phoenix   85029   2.0    3.0   \n",
              "1  294900  107 W Camino Rancho Lucido       Sahuarita   85629   4.0    3.0   \n",
              "2  683100        3320 E Briarwood Ter         Phoenix   85048   4.0    4.0   \n",
              "3  260000        2401 N 70th St APT H      Scottsdale   85257   2.0    1.0   \n",
              "4  290900          3781 E Sierrita Rd  San Tan Valley   85143   2.0    2.0   \n",
              "\n",
              "     sqft                                                url  \n",
              "0  1498.0  https://www.zillow.com/homedetails/11444-N-28t...  \n",
              "1  1951.0  https://www.zillow.com/homedetails/107-W-Camin...  \n",
              "2  3110.0  https://www.zillow.com/homedetails/3320-E-Bria...  \n",
              "3   759.0  https://www.zillow.com/homedetails/2401-N-70th...  \n",
              "4  1052.0  https://www.zillow.com/homedetails/3781-E-Sier...  "
            ],
            "text/html": [
              "\n",
              "\n",
              "  <div id=\"df-37ea45ad-67af-482d-85f6-2ce75108fa0a\">\n",
              "    <div class=\"colab-df-container\">\n",
              "      <div>\n",
              "<style scoped>\n",
              "    .dataframe tbody tr th:only-of-type {\n",
              "        vertical-align: middle;\n",
              "    }\n",
              "\n",
              "    .dataframe tbody tr th {\n",
              "        vertical-align: top;\n",
              "    }\n",
              "\n",
              "    .dataframe thead th {\n",
              "        text-align: right;\n",
              "    }\n",
              "</style>\n",
              "<table border=\"1\" class=\"dataframe\">\n",
              "  <thead>\n",
              "    <tr style=\"text-align: right;\">\n",
              "      <th></th>\n",
              "      <th>Price</th>\n",
              "      <th>address</th>\n",
              "      <th>Local_area</th>\n",
              "      <th>zipcode</th>\n",
              "      <th>beds</th>\n",
              "      <th>baths</th>\n",
              "      <th>sqft</th>\n",
              "      <th>url</th>\n",
              "    </tr>\n",
              "  </thead>\n",
              "  <tbody>\n",
              "    <tr>\n",
              "      <th>0</th>\n",
              "      <td>229900</td>\n",
              "      <td>11444 N 28th Dr APT 14</td>\n",
              "      <td>Phoenix</td>\n",
              "      <td>85029</td>\n",
              "      <td>2.0</td>\n",
              "      <td>3.0</td>\n",
              "      <td>1498.0</td>\n",
              "      <td>https://www.zillow.com/homedetails/11444-N-28t...</td>\n",
              "    </tr>\n",
              "    <tr>\n",
              "      <th>1</th>\n",
              "      <td>294900</td>\n",
              "      <td>107 W Camino Rancho Lucido</td>\n",
              "      <td>Sahuarita</td>\n",
              "      <td>85629</td>\n",
              "      <td>4.0</td>\n",
              "      <td>3.0</td>\n",
              "      <td>1951.0</td>\n",
              "      <td>https://www.zillow.com/homedetails/107-W-Camin...</td>\n",
              "    </tr>\n",
              "    <tr>\n",
              "      <th>2</th>\n",
              "      <td>683100</td>\n",
              "      <td>3320 E Briarwood Ter</td>\n",
              "      <td>Phoenix</td>\n",
              "      <td>85048</td>\n",
              "      <td>4.0</td>\n",
              "      <td>4.0</td>\n",
              "      <td>3110.0</td>\n",
              "      <td>https://www.zillow.com/homedetails/3320-E-Bria...</td>\n",
              "    </tr>\n",
              "    <tr>\n",
              "      <th>3</th>\n",
              "      <td>260000</td>\n",
              "      <td>2401 N 70th St APT H</td>\n",
              "      <td>Scottsdale</td>\n",
              "      <td>85257</td>\n",
              "      <td>2.0</td>\n",
              "      <td>1.0</td>\n",
              "      <td>759.0</td>\n",
              "      <td>https://www.zillow.com/homedetails/2401-N-70th...</td>\n",
              "    </tr>\n",
              "    <tr>\n",
              "      <th>4</th>\n",
              "      <td>290900</td>\n",
              "      <td>3781 E Sierrita Rd</td>\n",
              "      <td>San Tan Valley</td>\n",
              "      <td>85143</td>\n",
              "      <td>2.0</td>\n",
              "      <td>2.0</td>\n",
              "      <td>1052.0</td>\n",
              "      <td>https://www.zillow.com/homedetails/3781-E-Sier...</td>\n",
              "    </tr>\n",
              "  </tbody>\n",
              "</table>\n",
              "</div>\n",
              "      <button class=\"colab-df-convert\" onclick=\"convertToInteractive('df-37ea45ad-67af-482d-85f6-2ce75108fa0a')\"\n",
              "              title=\"Convert this dataframe to an interactive table.\"\n",
              "              style=\"display:none;\">\n",
              "\n",
              "  <svg xmlns=\"http://www.w3.org/2000/svg\" height=\"24px\"viewBox=\"0 0 24 24\"\n",
              "       width=\"24px\">\n",
              "    <path d=\"M0 0h24v24H0V0z\" fill=\"none\"/>\n",
              "    <path d=\"M18.56 5.44l.94 2.06.94-2.06 2.06-.94-2.06-.94-.94-2.06-.94 2.06-2.06.94zm-11 1L8.5 8.5l.94-2.06 2.06-.94-2.06-.94L8.5 2.5l-.94 2.06-2.06.94zm10 10l.94 2.06.94-2.06 2.06-.94-2.06-.94-.94-2.06-.94 2.06-2.06.94z\"/><path d=\"M17.41 7.96l-1.37-1.37c-.4-.4-.92-.59-1.43-.59-.52 0-1.04.2-1.43.59L10.3 9.45l-7.72 7.72c-.78.78-.78 2.05 0 2.83L4 21.41c.39.39.9.59 1.41.59.51 0 1.02-.2 1.41-.59l7.78-7.78 2.81-2.81c.8-.78.8-2.07 0-2.86zM5.41 20L4 18.59l7.72-7.72 1.47 1.35L5.41 20z\"/>\n",
              "  </svg>\n",
              "      </button>\n",
              "\n",
              "\n",
              "\n",
              "    <div id=\"df-3af093de-35fa-44c7-b7d3-ce0a282018b1\">\n",
              "      <button class=\"colab-df-quickchart\" onclick=\"quickchart('df-3af093de-35fa-44c7-b7d3-ce0a282018b1')\"\n",
              "              title=\"Suggest charts.\"\n",
              "              style=\"display:none;\">\n",
              "\n",
              "<svg xmlns=\"http://www.w3.org/2000/svg\" height=\"24px\"viewBox=\"0 0 24 24\"\n",
              "     width=\"24px\">\n",
              "    <g>\n",
              "        <path d=\"M19 3H5c-1.1 0-2 .9-2 2v14c0 1.1.9 2 2 2h14c1.1 0 2-.9 2-2V5c0-1.1-.9-2-2-2zM9 17H7v-7h2v7zm4 0h-2V7h2v10zm4 0h-2v-4h2v4z\"/>\n",
              "    </g>\n",
              "</svg>\n",
              "      </button>\n",
              "    </div>\n",
              "\n",
              "<style>\n",
              "  .colab-df-quickchart {\n",
              "    background-color: #E8F0FE;\n",
              "    border: none;\n",
              "    border-radius: 50%;\n",
              "    cursor: pointer;\n",
              "    display: none;\n",
              "    fill: #1967D2;\n",
              "    height: 32px;\n",
              "    padding: 0 0 0 0;\n",
              "    width: 32px;\n",
              "  }\n",
              "\n",
              "  .colab-df-quickchart:hover {\n",
              "    background-color: #E2EBFA;\n",
              "    box-shadow: 0px 1px 2px rgba(60, 64, 67, 0.3), 0px 1px 3px 1px rgba(60, 64, 67, 0.15);\n",
              "    fill: #174EA6;\n",
              "  }\n",
              "\n",
              "  [theme=dark] .colab-df-quickchart {\n",
              "    background-color: #3B4455;\n",
              "    fill: #D2E3FC;\n",
              "  }\n",
              "\n",
              "  [theme=dark] .colab-df-quickchart:hover {\n",
              "    background-color: #434B5C;\n",
              "    box-shadow: 0px 1px 3px 1px rgba(0, 0, 0, 0.15);\n",
              "    filter: drop-shadow(0px 1px 2px rgba(0, 0, 0, 0.3));\n",
              "    fill: #FFFFFF;\n",
              "  }\n",
              "</style>\n",
              "\n",
              "    <script>\n",
              "      async function quickchart(key) {\n",
              "        const containerElement = document.querySelector('#' + key);\n",
              "        const charts = await google.colab.kernel.invokeFunction(\n",
              "            'suggestCharts', [key], {});\n",
              "      }\n",
              "    </script>\n",
              "\n",
              "      <script>\n",
              "\n",
              "function displayQuickchartButton(domScope) {\n",
              "  let quickchartButtonEl =\n",
              "    domScope.querySelector('#df-3af093de-35fa-44c7-b7d3-ce0a282018b1 button.colab-df-quickchart');\n",
              "  quickchartButtonEl.style.display =\n",
              "    google.colab.kernel.accessAllowed ? 'block' : 'none';\n",
              "}\n",
              "\n",
              "        displayQuickchartButton(document);\n",
              "      </script>\n",
              "      <style>\n",
              "    .colab-df-container {\n",
              "      display:flex;\n",
              "      flex-wrap:wrap;\n",
              "      gap: 12px;\n",
              "    }\n",
              "\n",
              "    .colab-df-convert {\n",
              "      background-color: #E8F0FE;\n",
              "      border: none;\n",
              "      border-radius: 50%;\n",
              "      cursor: pointer;\n",
              "      display: none;\n",
              "      fill: #1967D2;\n",
              "      height: 32px;\n",
              "      padding: 0 0 0 0;\n",
              "      width: 32px;\n",
              "    }\n",
              "\n",
              "    .colab-df-convert:hover {\n",
              "      background-color: #E2EBFA;\n",
              "      box-shadow: 0px 1px 2px rgba(60, 64, 67, 0.3), 0px 1px 3px 1px rgba(60, 64, 67, 0.15);\n",
              "      fill: #174EA6;\n",
              "    }\n",
              "\n",
              "    [theme=dark] .colab-df-convert {\n",
              "      background-color: #3B4455;\n",
              "      fill: #D2E3FC;\n",
              "    }\n",
              "\n",
              "    [theme=dark] .colab-df-convert:hover {\n",
              "      background-color: #434B5C;\n",
              "      box-shadow: 0px 1px 3px 1px rgba(0, 0, 0, 0.15);\n",
              "      filter: drop-shadow(0px 1px 2px rgba(0, 0, 0, 0.3));\n",
              "      fill: #FFFFFF;\n",
              "    }\n",
              "  </style>\n",
              "\n",
              "      <script>\n",
              "        const buttonEl =\n",
              "          document.querySelector('#df-37ea45ad-67af-482d-85f6-2ce75108fa0a button.colab-df-convert');\n",
              "        buttonEl.style.display =\n",
              "          google.colab.kernel.accessAllowed ? 'block' : 'none';\n",
              "\n",
              "        async function convertToInteractive(key) {\n",
              "          const element = document.querySelector('#df-37ea45ad-67af-482d-85f6-2ce75108fa0a');\n",
              "          const dataTable =\n",
              "            await google.colab.kernel.invokeFunction('convertToInteractive',\n",
              "                                                     [key], {});\n",
              "          if (!dataTable) return;\n",
              "\n",
              "          const docLinkHtml = 'Like what you see? Visit the ' +\n",
              "            '<a target=\"_blank\" href=https://colab.research.google.com/notebooks/data_table.ipynb>data table notebook</a>'\n",
              "            + ' to learn more about interactive tables.';\n",
              "          element.innerHTML = '';\n",
              "          dataTable['output_type'] = 'display_data';\n",
              "          await google.colab.output.renderOutput(dataTable, element);\n",
              "          const docLink = document.createElement('div');\n",
              "          docLink.innerHTML = docLinkHtml;\n",
              "          element.appendChild(docLink);\n",
              "        }\n",
              "      </script>\n",
              "    </div>\n",
              "  </div>\n"
            ]
          },
          "metadata": {},
          "execution_count": 1
        }
      ],
      "source": [
        "# Importando pandas\n",
        "import pandas as pd\n",
        "\n",
        "# Cargar el conjunto de datos\n",
        "data = pd.read_csv('/content/drive/MyDrive/AZhousingData.csv')\n",
        "\n",
        "# Mostrar las primeras filas del conjunto de datos\n",
        "data.head()"
      ]
    },
    {
      "cell_type": "markdown",
      "source": [
        "El conjunto de datos contiene información sobre viviendas, incluyendo su precio (**'Price'**), dirección (**'address'**), área local (**'Local_area'**), código postal (**'zipcode'**), número de habitaciones (**'beds'**), número de baños (**'baths'**), superficie en pies cuadrados (**'sqft'**), y un enlace a Zillow (**'url'**).\n",
        "\n",
        "Para este análisis, nos centraremos en las columnas **'Price'** y **'sqft'** para realizar la regresión lineal simple."
      ],
      "metadata": {
        "id": "61yDS2JogEUl"
      }
    },
    {
      "cell_type": "markdown",
      "source": [
        "# Paso 2: Preparar los datos: dividirlos en conjuntos de entrenamiento y prueba\n",
        "\n",
        "A continuación, dividiremos los datos en conjuntos de entrenamiento y prueba."
      ],
      "metadata": {
        "id": "uwaOJmXQfD-b"
      }
    },
    {
      "cell_type": "code",
      "source": [
        "# Importando train_test_split\n",
        "from sklearn.model_selection import train_test_split\n",
        "\n",
        "# Definir las variables independiente (X) y dependiente (y)\n",
        "X = data['sqft'].values.reshape(-1,1)\n",
        "y = data['Price'].values\n",
        "\n",
        "# Dividir los datos en conjuntos de entrenamiento y prueba (80% entrenamiento, 20% prueba)\n",
        "X_train, X_test, y_train, y_test = train_test_split(X, y, test_size=0.2, random_state=42)\n",
        "\n",
        "X_train.shape, X_test.shape"
      ],
      "metadata": {
        "colab": {
          "base_uri": "https://localhost:8080/"
        },
        "id": "w-LXsp2mgvMa",
        "outputId": "2a96fc34-e182-4238-b4db-0fbc18ddf999"
      },
      "execution_count": null,
      "outputs": [
        {
          "output_type": "execute_result",
          "data": {
            "text/plain": [
              "((450, 1), (113, 1))"
            ]
          },
          "metadata": {},
          "execution_count": 2
        }
      ]
    },
    {
      "cell_type": "markdown",
      "source": [
        "Hemos dividido el conjunto de datos en dos partes: un conjunto de entrenamiento con 450 ejemplos y un conjunto de prueba con 113 ejemplos."
      ],
      "metadata": {
        "id": "otuVtpGOhQGs"
      }
    },
    {
      "cell_type": "markdown",
      "source": [
        "# Paso 3: Entrenar un modelo de regresión lineal simple\n",
        "\n",
        "A continuación, entrenaremos un modelo de regresión lineal simple utilizando el conjunto de entrenamiento."
      ],
      "metadata": {
        "id": "B-rjLjEbfEuy"
      }
    },
    {
      "cell_type": "code",
      "source": [
        "from sklearn.linear_model import LinearRegression\n",
        "\n",
        "# Crear y entrenar el modelo de regresión lineal\n",
        "model = LinearRegression()\n",
        "model.fit(X_train, y_train)\n",
        "\n",
        "# Coeficientes del modelo\n",
        "slope = model.coef_[0]\n",
        "intercept = model.intercept_\n",
        "\n",
        "slope, intercept"
      ],
      "metadata": {
        "colab": {
          "base_uri": "https://localhost:8080/"
        },
        "id": "zO19fCQHhaxD",
        "outputId": "4d186539-b92f-4766-a4a6-6de00e8808ac"
      },
      "execution_count": null,
      "outputs": [
        {
          "output_type": "execute_result",
          "data": {
            "text/plain": [
              "(331.57832753350266, -171118.62128677318)"
            ]
          },
          "metadata": {},
          "execution_count": 3
        }
      ]
    },
    {
      "cell_type": "markdown",
      "source": [
        "El modelo de regresión lineal que hemos entrenado tiene la siguiente ecuación:\n",
        "Precio = 331.58 × sqft − 171,118.62  \n",
        "\n",
        "Donde:\n",
        "\n",
        "* Precio es el precio de la vivienda.\n",
        "* sqft es el área de la vivienda en pies cuadrados.\n"
      ],
      "metadata": {
        "id": "NsYKQl-vhtBX"
      }
    },
    {
      "cell_type": "markdown",
      "source": [
        "# Paso 4: Evaluar el rendimiento del modelo en el conjunto de prueba\n",
        "\n",
        "A continuación, vamos a evaluar el rendimiento del modelo en el conjunto de prueba utilizando el error cuadrático medio (MSE) como métrica de evaluación."
      ],
      "metadata": {
        "id": "cKLt6xZ0fFJ7"
      }
    },
    {
      "cell_type": "code",
      "source": [
        "from sklearn.metrics import mean_squared_error\n",
        "\n",
        "# Predecir los precios en el conjunto de prueba\n",
        "y_pred = model.predict(X_test)\n",
        "\n",
        "# Calcular el error cuadrático medio (MSE)\n",
        "mse = mean_squared_error(y_test, y_pred)\n",
        "\n",
        "mse"
      ],
      "metadata": {
        "colab": {
          "base_uri": "https://localhost:8080/"
        },
        "id": "N56tZmKZjKe5",
        "outputId": "8a394493-c20d-4647-f627-5987aca8f4eb"
      },
      "execution_count": null,
      "outputs": [
        {
          "output_type": "execute_result",
          "data": {
            "text/plain": [
              "1575008564840.591"
            ]
          },
          "metadata": {},
          "execution_count": 4
        }
      ]
    },
    {
      "cell_type": "markdown",
      "source": [
        "El error cuadrático medio (MSE) en el conjunto de prueba es aproximadamente $1.575 × 10 ^12$. Este valor nos da una idea de cuán cerca están las predicciones del modelo a los valores reales. Sin embargo, el MSE por sí solo puede no ser muy intuitivo, ya que está en unidades al cuadrado. Una forma de interpretarlo en las unidades originales (en este caso, dólares) es calcular la raíz cuadrada del MSE (RMSE).\n",
        "\n",
        "Vamos a calcular el RMSE para tener una idea más clara del error típico de nuestras predicciones."
      ],
      "metadata": {
        "id": "rqr908q8jVo5"
      }
    },
    {
      "cell_type": "code",
      "source": [
        "import numpy as np\n",
        "\n",
        "# Calcular la raíz cuadrada del error cuadrático medio (RMSE)\n",
        "rmse = np.sqrt(mse)\n",
        "\n",
        "rmse"
      ],
      "metadata": {
        "colab": {
          "base_uri": "https://localhost:8080/"
        },
        "id": "3pFUUwcvkTYY",
        "outputId": "c6a82a31-2ec9-41ed-a41d-2a296fa1e61f"
      },
      "execution_count": null,
      "outputs": [
        {
          "output_type": "execute_result",
          "data": {
            "text/plain": [
              "1254993.452110644"
            ]
          },
          "metadata": {},
          "execution_count": 5
        }
      ]
    },
    {
      "cell_type": "markdown",
      "source": [
        "El error cuadrático medio raíz (RMSE) es aproximadamente $1,254,993.45. Esto sugiere que, en promedio, nuestras predicciones se desvían del valor real por aproximadamente 1.25 millones de dólares. Dependiendo del rango de precios en el conjunto de datos, este error puede ser considerado alto o bajo."
      ],
      "metadata": {
        "id": "K7k9OyTIkeKc"
      }
    },
    {
      "cell_type": "markdown",
      "source": [
        "# Paso 5: Visualizar los resultados con una gráfica\n",
        "\n",
        "Finalmente, visualizaremos los resultados con una gráfica que muestre los datos reales y la línea de regresión."
      ],
      "metadata": {
        "id": "lj2k18NwfFqa"
      }
    },
    {
      "cell_type": "code",
      "source": [
        "import seaborn as sns\n",
        "import matplotlib.pyplot as plt\n",
        "\n",
        "# Configurar el tamaño de la figura\n",
        "plt.figure(figsize=(10, 6))\n",
        "\n",
        "# Gráfica de dispersión con los datos reales\n",
        "sns.scatterplot(x=X_test.flatten(), y=y_test, color='blue', label='Datos reales')\n",
        "\n",
        "# Gráfica de la línea de regresión\n",
        "sns.lineplot(x=X_test.flatten(), y=y_pred, color='red', label='Línea de regresión')\n",
        "\n",
        "# Títulos y etiquetas\n",
        "plt.title('Predicción de precios de viviendas basada en el área')\n",
        "plt.xlabel('Área (sqft)')\n",
        "plt.ylabel('Precio')\n",
        "plt.legend()\n",
        "\n",
        "plt.show()"
      ],
      "metadata": {
        "colab": {
          "base_uri": "https://localhost:8080/",
          "height": 567
        },
        "id": "OdtEDtC3klNV",
        "outputId": "0136ce06-bf30-4916-a129-91947a9a6042"
      },
      "execution_count": null,
      "outputs": [
        {
          "output_type": "display_data",
          "data": {
            "text/plain": [
              "<Figure size 1000x600 with 1 Axes>"
            ],
            "image/png": "[encoded data removed]"
          },
          "metadata": {}
        }
      ]
    },
    {
      "cell_type": "markdown",
      "source": [
        "Gráfica que muestra la relación entre el área de las viviendas (en pies cuadrados) y sus precios. Los puntos azules representan los datos reales del conjunto de prueba, mientras que la línea roja representa la línea de regresión generada por nuestro modelo.  \n",
        "\n",
        "La línea de regresión muestra la tendencia general que sigue el modelo para predecir los precios en función del área. Como puedes observar, hay algunas predicciones que se desvían significativamente de los valores reales, lo que explica el RMSE que calculamos anteriormente.  \n",
        "\n",
        "Es importante mencionar que la regresión lineal simple es un modelo básico que asume una relación lineal entre las variables. En la práctica, la relación entre el área y el precio de una vivienda puede ser más compleja, y podría ser útil explorar modelos más avanzados o considerar más características para mejorar la precisión de las predicciones."
      ],
      "metadata": {
        "id": "Bw2cPjgnlCrJ"
      }
    }
  ]
}