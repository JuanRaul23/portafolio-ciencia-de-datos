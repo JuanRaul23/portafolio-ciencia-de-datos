{
  "nbformat": 4,
  "nbformat_minor": 0,
  "metadata": {
    "colab": {
      "provenance": [],
      "authorship_tag": "ABX9TyP43oHHPmtqHHkTxLN6KV4s",
      "include_colab_link": true
    },
    "kernelspec": {
      "name": "python3",
      "display_name": "Python 3"
    },
    "language_info": {
      "name": "python"
    }
  },
  "cells": [
    {
      "cell_type": "markdown",
      "metadata": {
        "id": "view-in-github",
        "colab_type": "text"
      },
      "source": [
        "<a href=\"https://colab.research.google.com/github/JuanRaul23/portafolio-ciencia-de-datos/blob/master/random_forest_titanic.ipynb\" target=\"_parent\"><img src=\"https://colab.research.google.com/assets/colab-badge.svg\" alt=\"Open In Colab\"/></a>"
      ]
    },
    {
      "cell_type": "markdown",
      "source": [
        "# Primer Random Forest"
      ],
      "metadata": {
        "id": "qda9pFs6DC7z"
      }
    },
    {
      "cell_type": "markdown",
      "source": [
        "## Importaciones, análisis exploratorio y limpieza"
      ],
      "metadata": {
        "id": "COeU7nDEDLkD"
      }
    },
    {
      "cell_type": "code",
      "execution_count": 16,
      "metadata": {
        "id": "uRO7FIWpCUrw"
      },
      "outputs": [],
      "source": [
        "#Importamos las librerias principales\n",
        "import pandas as pd\n",
        "import matplotlib.pyplot as plt"
      ]
    },
    {
      "cell_type": "code",
      "source": [
        "#Cargamos dataset a utilizar\n",
        "titanic = pd.read_csv('https://web.stanford.edu/class/archive/cs/cs109/cs109.1166/stuff/titanic.csv')"
      ],
      "metadata": {
        "id": "6E_pHEmtCru0"
      },
      "execution_count": 17,
      "outputs": []
    },
    {
      "cell_type": "code",
      "source": [
        "# Eliminando columnas innecesarias\n",
        "titanic.drop(['Name', 'Fare'], axis=1, inplace=True)\n",
        "\n",
        "# Renombrando columnas\n",
        "titanic.columns = ['Survived', 'Pclass', 'Sex', 'Age', 'SibSp', 'Parch']\n",
        "\n",
        "# Convirtiendo variables categóricas en indicadoras/dummies\n",
        "titanic = pd.get_dummies(titanic, columns=[\"Sex\"], drop_first=True)\n",
        "\n",
        "# Renombrando la columna resultante de la conversión\n",
        "titanic.rename(columns={'Sex_male': 'Sex'}, inplace=True)\n",
        "\n",
        "# Reordenando columnas\n",
        "titanic = titanic[['Survived', 'Pclass', 'Sex', 'Age', 'SibSp', 'Parch']]\n",
        "\n",
        "# Mostrando las primeras filas del DataFrame modificado\n",
        "titanic.head()"
      ],
      "metadata": {
        "colab": {
          "base_uri": "https://localhost:8080/",
          "height": 206
        },
        "id": "XByUaGApCu5R",
        "outputId": "e2e45104-debf-4b62-ed91-efcb138311f0"
      },
      "execution_count": 18,
      "outputs": [
        {
          "output_type": "execute_result",
          "data": {
            "text/plain": [
              "   Survived  Pclass  Sex   Age  SibSp  Parch\n",
              "0         0       3    1  22.0      1      0\n",
              "1         1       1    0  38.0      1      0\n",
              "2         1       3    0  26.0      0      0\n",
              "3         1       1    0  35.0      1      0\n",
              "4         0       3    1  35.0      0      0"
            ],
            "text/html": [
              "\n",
              "  <div id=\"df-8148040e-338c-458b-853a-0cd6ea681cc8\" class=\"colab-df-container\">\n",
              "    <div>\n",
              "<style scoped>\n",
              "    .dataframe tbody tr th:only-of-type {\n",
              "        vertical-align: middle;\n",
              "    }\n",
              "\n",
              "    .dataframe tbody tr th {\n",
              "        vertical-align: top;\n",
              "    }\n",
              "\n",
              "    .dataframe thead th {\n",
              "        text-align: right;\n",
              "    }\n",
              "</style>\n",
              "<table border=\"1\" class=\"dataframe\">\n",
              "  <thead>\n",
              "    <tr style=\"text-align: right;\">\n",
              "      <th></th>\n",
              "      <th>Survived</th>\n",
              "      <th>Pclass</th>\n",
              "      <th>Sex</th>\n",
              "      <th>Age</th>\n",
              "      <th>SibSp</th>\n",
              "      <th>Parch</th>\n",
              "    </tr>\n",
              "  </thead>\n",
              "  <tbody>\n",
              "    <tr>\n",
              "      <th>0</th>\n",
              "      <td>0</td>\n",
              "      <td>3</td>\n",
              "      <td>1</td>\n",
              "      <td>22.0</td>\n",
              "      <td>1</td>\n",
              "      <td>0</td>\n",
              "    </tr>\n",
              "    <tr>\n",
              "      <th>1</th>\n",
              "      <td>1</td>\n",
              "      <td>1</td>\n",
              "      <td>0</td>\n",
              "      <td>38.0</td>\n",
              "      <td>1</td>\n",
              "      <td>0</td>\n",
              "    </tr>\n",
              "    <tr>\n",
              "      <th>2</th>\n",
              "      <td>1</td>\n",
              "      <td>3</td>\n",
              "      <td>0</td>\n",
              "      <td>26.0</td>\n",
              "      <td>0</td>\n",
              "      <td>0</td>\n",
              "    </tr>\n",
              "    <tr>\n",
              "      <th>3</th>\n",
              "      <td>1</td>\n",
              "      <td>1</td>\n",
              "      <td>0</td>\n",
              "      <td>35.0</td>\n",
              "      <td>1</td>\n",
              "      <td>0</td>\n",
              "    </tr>\n",
              "    <tr>\n",
              "      <th>4</th>\n",
              "      <td>0</td>\n",
              "      <td>3</td>\n",
              "      <td>1</td>\n",
              "      <td>35.0</td>\n",
              "      <td>0</td>\n",
              "      <td>0</td>\n",
              "    </tr>\n",
              "  </tbody>\n",
              "</table>\n",
              "</div>\n",
              "    <div class=\"colab-df-buttons\">\n",
              "\n",
              "  <div class=\"colab-df-container\">\n",
              "    <button class=\"colab-df-convert\" onclick=\"convertToInteractive('df-8148040e-338c-458b-853a-0cd6ea681cc8')\"\n",
              "            title=\"Convert this dataframe to an interactive table.\"\n",
              "            style=\"display:none;\">\n",
              "\n",
              "  <svg xmlns=\"http://www.w3.org/2000/svg\" height=\"24px\" viewBox=\"0 -960 960 960\">\n",
              "    <path d=\"M120-120v-720h720v720H120Zm60-500h600v-160H180v160Zm220 220h160v-160H400v160Zm0 220h160v-160H400v160ZM180-400h160v-160H180v160Zm440 0h160v-160H620v160ZM180-180h160v-160H180v160Zm440 0h160v-160H620v160Z\"/>\n",
              "  </svg>\n",
              "    </button>\n",
              "\n",
              "  <style>\n",
              "    .colab-df-container {\n",
              "      display:flex;\n",
              "      gap: 12px;\n",
              "    }\n",
              "\n",
              "    .colab-df-convert {\n",
              "      background-color: #E8F0FE;\n",
              "      border: none;\n",
              "      border-radius: 50%;\n",
              "      cursor: pointer;\n",
              "      display: none;\n",
              "      fill: #1967D2;\n",
              "      height: 32px;\n",
              "      padding: 0 0 0 0;\n",
              "      width: 32px;\n",
              "    }\n",
              "\n",
              "    .colab-df-convert:hover {\n",
              "      background-color: #E2EBFA;\n",
              "      box-shadow: 0px 1px 2px rgba(60, 64, 67, 0.3), 0px 1px 3px 1px rgba(60, 64, 67, 0.15);\n",
              "      fill: #174EA6;\n",
              "    }\n",
              "\n",
              "    .colab-df-buttons div {\n",
              "      margin-bottom: 4px;\n",
              "    }\n",
              "\n",
              "    [theme=dark] .colab-df-convert {\n",
              "      background-color: #3B4455;\n",
              "      fill: #D2E3FC;\n",
              "    }\n",
              "\n",
              "    [theme=dark] .colab-df-convert:hover {\n",
              "      background-color: #434B5C;\n",
              "      box-shadow: 0px 1px 3px 1px rgba(0, 0, 0, 0.15);\n",
              "      filter: drop-shadow(0px 1px 2px rgba(0, 0, 0, 0.3));\n",
              "      fill: #FFFFFF;\n",
              "    }\n",
              "  </style>\n",
              "\n",
              "    <script>\n",
              "      const buttonEl =\n",
              "        document.querySelector('#df-8148040e-338c-458b-853a-0cd6ea681cc8 button.colab-df-convert');\n",
              "      buttonEl.style.display =\n",
              "        google.colab.kernel.accessAllowed ? 'block' : 'none';\n",
              "\n",
              "      async function convertToInteractive(key) {\n",
              "        const element = document.querySelector('#df-8148040e-338c-458b-853a-0cd6ea681cc8');\n",
              "        const dataTable =\n",
              "          await google.colab.kernel.invokeFunction('convertToInteractive',\n",
              "                                                    [key], {});\n",
              "        if (!dataTable) return;\n",
              "\n",
              "        const docLinkHtml = 'Like what you see? Visit the ' +\n",
              "          '<a target=\"_blank\" href=https://colab.research.google.com/notebooks/data_table.ipynb>data table notebook</a>'\n",
              "          + ' to learn more about interactive tables.';\n",
              "        element.innerHTML = '';\n",
              "        dataTable['output_type'] = 'display_data';\n",
              "        await google.colab.output.renderOutput(dataTable, element);\n",
              "        const docLink = document.createElement('div');\n",
              "        docLink.innerHTML = docLinkHtml;\n",
              "        element.appendChild(docLink);\n",
              "      }\n",
              "    </script>\n",
              "  </div>\n",
              "\n",
              "\n",
              "<div id=\"df-3e449377-9577-4b30-970b-66e6e5a6ce65\">\n",
              "  <button class=\"colab-df-quickchart\" onclick=\"quickchart('df-3e449377-9577-4b30-970b-66e6e5a6ce65')\"\n",
              "            title=\"Suggest charts\"\n",
              "            style=\"display:none;\">\n",
              "\n",
              "<svg xmlns=\"http://www.w3.org/2000/svg\" height=\"24px\"viewBox=\"0 0 24 24\"\n",
              "     width=\"24px\">\n",
              "    <g>\n",
              "        <path d=\"M19 3H5c-1.1 0-2 .9-2 2v14c0 1.1.9 2 2 2h14c1.1 0 2-.9 2-2V5c0-1.1-.9-2-2-2zM9 17H7v-7h2v7zm4 0h-2V7h2v10zm4 0h-2v-4h2v4z\"/>\n",
              "    </g>\n",
              "</svg>\n",
              "  </button>\n",
              "\n",
              "<style>\n",
              "  .colab-df-quickchart {\n",
              "      --bg-color: #E8F0FE;\n",
              "      --fill-color: #1967D2;\n",
              "      --hover-bg-color: #E2EBFA;\n",
              "      --hover-fill-color: #174EA6;\n",
              "      --disabled-fill-color: #AAA;\n",
              "      --disabled-bg-color: #DDD;\n",
              "  }\n",
              "\n",
              "  [theme=dark] .colab-df-quickchart {\n",
              "      --bg-color: #3B4455;\n",
              "      --fill-color: #D2E3FC;\n",
              "      --hover-bg-color: #434B5C;\n",
              "      --hover-fill-color: #FFFFFF;\n",
              "      --disabled-bg-color: #3B4455;\n",
              "      --disabled-fill-color: #666;\n",
              "  }\n",
              "\n",
              "  .colab-df-quickchart {\n",
              "    background-color: var(--bg-color);\n",
              "    border: none;\n",
              "    border-radius: 50%;\n",
              "    cursor: pointer;\n",
              "    display: none;\n",
              "    fill: var(--fill-color);\n",
              "    height: 32px;\n",
              "    padding: 0;\n",
              "    width: 32px;\n",
              "  }\n",
              "\n",
              "  .colab-df-quickchart:hover {\n",
              "    background-color: var(--hover-bg-color);\n",
              "    box-shadow: 0 1px 2px rgba(60, 64, 67, 0.3), 0 1px 3px 1px rgba(60, 64, 67, 0.15);\n",
              "    fill: var(--button-hover-fill-color);\n",
              "  }\n",
              "\n",
              "  .colab-df-quickchart-complete:disabled,\n",
              "  .colab-df-quickchart-complete:disabled:hover {\n",
              "    background-color: var(--disabled-bg-color);\n",
              "    fill: var(--disabled-fill-color);\n",
              "    box-shadow: none;\n",
              "  }\n",
              "\n",
              "  .colab-df-spinner {\n",
              "    border: 2px solid var(--fill-color);\n",
              "    border-color: transparent;\n",
              "    border-bottom-color: var(--fill-color);\n",
              "    animation:\n",
              "      spin 1s steps(1) infinite;\n",
              "  }\n",
              "\n",
              "  @keyframes spin {\n",
              "    0% {\n",
              "      border-color: transparent;\n",
              "      border-bottom-color: var(--fill-color);\n",
              "      border-left-color: var(--fill-color);\n",
              "    }\n",
              "    20% {\n",
              "      border-color: transparent;\n",
              "      border-left-color: var(--fill-color);\n",
              "      border-top-color: var(--fill-color);\n",
              "    }\n",
              "    30% {\n",
              "      border-color: transparent;\n",
              "      border-left-color: var(--fill-color);\n",
              "      border-top-color: var(--fill-color);\n",
              "      border-right-color: var(--fill-color);\n",
              "    }\n",
              "    40% {\n",
              "      border-color: transparent;\n",
              "      border-right-color: var(--fill-color);\n",
              "      border-top-color: var(--fill-color);\n",
              "    }\n",
              "    60% {\n",
              "      border-color: transparent;\n",
              "      border-right-color: var(--fill-color);\n",
              "    }\n",
              "    80% {\n",
              "      border-color: transparent;\n",
              "      border-right-color: var(--fill-color);\n",
              "      border-bottom-color: var(--fill-color);\n",
              "    }\n",
              "    90% {\n",
              "      border-color: transparent;\n",
              "      border-bottom-color: var(--fill-color);\n",
              "    }\n",
              "  }\n",
              "</style>\n",
              "\n",
              "  <script>\n",
              "    async function quickchart(key) {\n",
              "      const quickchartButtonEl =\n",
              "        document.querySelector('#' + key + ' button');\n",
              "      quickchartButtonEl.disabled = true;  // To prevent multiple clicks.\n",
              "      quickchartButtonEl.classList.add('colab-df-spinner');\n",
              "      try {\n",
              "        const charts = await google.colab.kernel.invokeFunction(\n",
              "            'suggestCharts', [key], {});\n",
              "      } catch (error) {\n",
              "        console.error('Error during call to suggestCharts:', error);\n",
              "      }\n",
              "      quickchartButtonEl.classList.remove('colab-df-spinner');\n",
              "      quickchartButtonEl.classList.add('colab-df-quickchart-complete');\n",
              "    }\n",
              "    (() => {\n",
              "      let quickchartButtonEl =\n",
              "        document.querySelector('#df-3e449377-9577-4b30-970b-66e6e5a6ce65 button');\n",
              "      quickchartButtonEl.style.display =\n",
              "        google.colab.kernel.accessAllowed ? 'block' : 'none';\n",
              "    })();\n",
              "  </script>\n",
              "</div>\n",
              "    </div>\n",
              "  </div>\n"
            ]
          },
          "metadata": {},
          "execution_count": 18
        }
      ]
    },
    {
      "cell_type": "code",
      "source": [
        "from sklearn.model_selection import train_test_split, cross_val_score\n",
        "from sklearn.ensemble import RandomForestClassifier\n",
        "from sklearn.metrics import classification_report, confusion_matrix\n",
        "\n",
        "# 1. Preparación de Datos: Seleccionar solo las columnas 'Sex', 'Pclass', 'Age'\n",
        "X = titanic[['Sex', 'Pclass', 'Age']]\n",
        "y = titanic['Survived']\n",
        "\n",
        "# Tratamiento de valores faltantes en 'Age'\n",
        "X['Age'].fillna(X['Age'].mean(), inplace=True)\n",
        "\n",
        "# 2. División del Conjunto de Datos\n",
        "X_train, X_test, y_train, y_test = train_test_split(X, y, test_size=0.3, random_state=42)\n",
        "\n",
        "# 3. Construcción del Modelo Random Forest\n",
        "rf_model = RandomForestClassifier(n_estimators=10, max_depth=5, random_state=42)\n",
        "rf_model.fit(X_train, y_train)\n",
        "\n",
        "# 4. Validación y Ajuste de Hiperparámetros\n",
        "cv_scores = cross_val_score(rf_model, X, y, cv=5)\n",
        "\n",
        "# 5. Evaluación del Modelo\n",
        "train_predictions = rf_model.predict(X_train)\n",
        "test_predictions = rf_model.predict(X_test)\n",
        "\n",
        "# 6. Generando reporte de clasificación y matriz de confusión\n",
        "classification_report_train = classification_report(y_train, train_predictions)\n",
        "classification_report_test = classification_report(y_test, test_predictions)\n",
        "confusion_matrix_train = confusion_matrix(y_train, train_predictions)\n",
        "confusion_matrix_test = confusion_matrix(y_test, test_predictions)"
      ],
      "metadata": {
        "colab": {
          "base_uri": "https://localhost:8080/"
        },
        "id": "H3J6QWM8C0DY",
        "outputId": "e113e24f-4800-4c2f-a7d6-d3e6ef49398b"
      },
      "execution_count": 19,
      "outputs": [
        {
          "output_type": "stream",
          "name": "stderr",
          "text": [
            "<ipython-input-19-78c256fd016e>:10: SettingWithCopyWarning: \n",
            "A value is trying to be set on a copy of a slice from a DataFrame\n",
            "\n",
            "See the caveats in the documentation: https://pandas.pydata.org/pandas-docs/stable/user_guide/indexing.html#returning-a-view-versus-a-copy\n",
            "  X['Age'].fillna(X['Age'].mean(), inplace=True)\n"
          ]
        }
      ]
    },
    {
      "cell_type": "code",
      "source": [
        "# 7. Preparando los resultados para mostrar\n",
        "print(\"Cross-Validation Scores: \\n\", cv_scores)\n",
        "print(\"Reporte de clasificación (Entrenamiento): \\n\", classification_report_train)\n",
        "print(\"Reporte de clasificación (Prueba): \\n\", classification_report_test)\n",
        "print(\"Matriz de confusión (Entrenamiento): \\n\", confusion_matrix_train)\n",
        "print(\"Matriz de confusión (Prueba): \\n\", confusion_matrix_test)"
      ],
      "metadata": {
        "colab": {
          "base_uri": "https://localhost:8080/"
        },
        "id": "1uEu7w7gpshI",
        "outputId": "a57a7077-fa8d-4fdb-e99a-1ab123a7039c"
      },
      "execution_count": 23,
      "outputs": [
        {
          "output_type": "stream",
          "name": "stdout",
          "text": [
            "Cross-Validation Scores: \n",
            " [0.81460674 0.80898876 0.79661017 0.82485876 0.8079096 ]\n",
            "Reporte de clasificación (Entrenamiento): \n",
            "               precision    recall  f1-score   support\n",
            "\n",
            "           0       0.85      0.93      0.89       379\n",
            "           1       0.87      0.75      0.80       241\n",
            "\n",
            "    accuracy                           0.86       620\n",
            "   macro avg       0.86      0.84      0.85       620\n",
            "weighted avg       0.86      0.86      0.86       620\n",
            "\n",
            "Reporte de clasificación (Prueba): \n",
            "               precision    recall  f1-score   support\n",
            "\n",
            "           0       0.78      0.92      0.85       166\n",
            "           1       0.82      0.57      0.67       101\n",
            "\n",
            "    accuracy                           0.79       267\n",
            "   macro avg       0.80      0.75      0.76       267\n",
            "weighted avg       0.79      0.79      0.78       267\n",
            "\n",
            "Matriz de confusión (Entrenamiento): \n",
            " [[352  27]\n",
            " [ 61 180]]\n",
            "Matriz de confusión (Prueba): \n",
            " [[153  13]\n",
            " [ 43  58]]\n"
          ]
        }
      ]
    },
    {
      "cell_type": "code",
      "source": [
        "import seaborn as sns\n",
        "\n",
        "# Crear un mapa de calor para la matriz de confusión del conjunto de entrenamiento\n",
        "plt.figure(figsize=(8, 6))\n",
        "sns.heatmap(confusion_matrix_train, annot=True, fmt=\"d\", cmap=\"Blues\")\n",
        "plt.title(\"Matriz de Confusión del Conjunto de Entrenamiento\")\n",
        "plt.ylabel(\"Etiqueta Real\")\n",
        "plt.xlabel(\"Etiqueta Predicha\")\n",
        "plt.show()\n",
        "\n",
        "# Crear un mapa de calor para la matriz de confusión del conjunto de prueba\n",
        "plt.figure(figsize=(8, 6))\n",
        "sns.heatmap(confusion_matrix_test, annot=True, fmt=\"d\", cmap=\"Blues\")\n",
        "plt.title(\"Matriz de Confusión del Conjunto de Prueba\")\n",
        "plt.ylabel(\"Etiqueta Real\")\n",
        "plt.xlabel(\"Etiqueta Predicha\")\n",
        "plt.show()"
      ],
      "metadata": {
        "colab": {
          "base_uri": "https://localhost:8080/",
          "height": 1000
        },
        "id": "cr0fS_rtxEqY",
        "outputId": "a6f90bbf-ca19-452b-a265-3de65d0116a8"
      },
      "execution_count": 25,
      "outputs": [
        {
          "output_type": "display_data",
          "data": {
            "text/plain": [
              "<Figure size 800x600 with 2 Axes>"
            ],
            "image/png": "[encoded data removed]"
          },
          "metadata": {}
        },
        {
          "output_type": "display_data",
          "data": {
            "text/plain": [
              "<Figure size 800x600 with 2 Axes>"
            ],
            "image/png": "[encoded data removed]"
          },
          "metadata": {}
        }
      ]
    },
    {
      "cell_type": "markdown",
      "source": [
        "# Interpretación de Resultados\n",
        "El análisis de los resultados obtenidos del modelo de Random Forest aplicado al conjunto de datos del Titanic revela varios puntos clave sobre su rendimiento:\n",
        "\n",
        "1. **Puntajes de Validación Cruzada (Cross-Validation Scores)**: Los puntajes de validación cruzada están en el rango de aproximadamente 0.80 a 0.82, lo cual indica un buen rendimiento del modelo en diferentes subconjuntos del dataset. La consistencia en estos puntajes sugiere que el modelo no está sobreajustado y tiene una buena generalización en datos no vistos.\n",
        "\n",
        "2. **Precisión en el Conjunto de Entrenamiento**: La precisión del modelo en el conjunto de entrenamiento es del 86%. Esto indica que, en el 86% de las ocasiones, el modelo pudo clasificar correctamente si un pasajero sobrevivió o no.\n",
        "\n",
        "3. **Precisión en el Conjunto de Prueba**: La precisión disminuye ligeramente a 79% en el conjunto de prueba. Aunque hay una disminución, sigue siendo un buen indicador de que el modelo es capaz de generalizar a partir de los datos que no se utilizaron durante el entrenamiento.\n",
        "\n",
        "4. **Recall y F1-Score**: El recall (capacidad del modelo para encontrar todas las instancias relevantes) y el F1-score (balance entre precisión y recall) son también buenos, aunque hay una ligera disminución en el conjunto de prueba. Esto es común en la práctica y sugiere que el modelo puede estar enfrentando algunas dificultades con casos más complejos o atípicos en el conjunto de prueba.\n",
        "\n",
        "5. **Matriz de Confusión**: Al analizar las matrices de confusión, se puede observar que el modelo tiene una tendencia a predecir mejor la clase \"No Sobrevivido\" (clase 0) que la clase \"Sobrevivido\" (clase 1). Esto se evidencia en una mayor cantidad de verdaderos negativos (predicciones correctas de la clase 0) en comparación con verdaderos positivos (predicciones correctas de la clase 1), especialmente en el conjunto de prueba.\n",
        "\n",
        "### Conclusión:\n",
        "El modelo de Random Forest ha demostrado ser bastante bueno para este conjunto de datos. Ha logrado un buen balance entre precisión y recall, lo que sugiere una buena capacidad de generalización. Sin embargo, hay un ligero sesgo hacia predecir mejor la clase \"No Sobrevivido\", lo cual podría ser un área para explorar en futuros ajustes del modelo, posiblemente investigando más sobre el balance de las clases o ajustando los parámetros del modelo.\n",
        "\n",
        "En general, estos resultados son prometedores y muestran que el modelo de Random Forest es una buena elección para este tipo de tarea de clasificación."
      ],
      "metadata": {
        "id": "vLDabrGLFdft"
      }
    },
    {
      "cell_type": "code",
      "source": [],
      "metadata": {
        "id": "XlIvxlYGyDB6"
      },
      "execution_count": null,
      "outputs": []
    }
  ]
}